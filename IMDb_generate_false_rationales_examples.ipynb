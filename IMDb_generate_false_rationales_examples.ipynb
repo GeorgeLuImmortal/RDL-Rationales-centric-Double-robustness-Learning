{
 "cells": [
  {
   "cell_type": "code",
   "execution_count": 2,
   "metadata": {},
   "outputs": [],
   "source": [
    "import os,json,random,torch,csv,nltk,math,string,ast\n",
    "from tqdm import tqdm_notebook\n",
    "import numpy as np \n",
    "from dotted_dict import DottedDict\n",
    "nltk.data.path.append('D:\\\\python_pkg_data\\\\nltk_data')\n",
    "from nltk.tokenize import word_tokenize\n",
    "from nltk.tokenize.treebank import TreebankWordDetokenizer\n",
    "from termcolor import colored\n",
    "from transformers import AutoTokenizer,pipeline\n",
    "\n",
    "os.environ['PYTHONHASHSEED'] = str(2020)\n",
    "os.environ['TRANSFORMERS_CACHE'] = 'D:\\\\python_pkg_data\\\\huggingface\\\\transformers'\n",
    "np.random.seed(2020)\n",
    "random.seed(2020)\n",
    "torch.manual_seed(2020)\n",
    "torch.cuda.manual_seed_all(2020)\n",
    "torch.backends.cudnn.benchmark = False\n",
    "torch.backends.cudnn.deterministic = True"
   ]
  },
  {
   "cell_type": "code",
   "execution_count": 4,
   "metadata": {
    "scrolled": true
   },
   "outputs": [],
   "source": [
    "def Make_masked_text(token_text,replace_id,tokenizer):\n",
    "    \n",
    "    token_text[replace_id] = tokenizer.mask_token\n",
    "    mask_text = TreebankWordDetokenizer().detokenize(token_text)\n",
    "    return mask_text\n",
    "\n",
    "def Get_synonyms(mask_text,unmasker,ban_list):\n",
    "    \n",
    "    synonym_list = []\n",
    "    \n",
    "    for item in unmasker(mask_text):\n",
    "        synonym = item['token_str'].lower().strip()\n",
    "        if synonym not in ban_list:\n",
    "             synonym_list.append(item['token_str'].strip())\n",
    "    \n",
    "\n",
    "    return synonym_list\n",
    "\n",
    "def Generate_fales_rationales(text,unmasker,tokenizer,false_rationale_span,ban_list,num_candidates=5):\n",
    "\n",
    "    candidates = []\n",
    "    token_text = word_tokenize(text)\n",
    "    \n",
    "    punc_ids = [idx for idx,token in enumerate(token_text) if token in string.punctuation]\n",
    "    false_rationale_ids = list(set(false_rationale_span)-set(punc_ids))\n",
    "    \n",
    "    \n",
    "    \n",
    "    synonyms = {}\n",
    "   \n",
    "    \n",
    "    for i in tqdm_notebook(range(num_candidates)):\n",
    "        ## ensure the tokens being replaced are not punctuations\n",
    "        token_candidate = token_text.copy()\n",
    "        \n",
    "      \n",
    "           \n",
    "                \n",
    "        for replace_id in false_rationale_ids:\n",
    "            if replace_id in synonyms.keys():\n",
    "                if len(synonyms[replace_id])>=1:\n",
    "                    synonym = random.choice(synonyms[replace_id])\n",
    "                    token_candidate[replace_id] = synonym\n",
    "                else:\n",
    "                    pass\n",
    "            else:\n",
    "                mask_text = Make_masked_text(token_text.copy(),replace_id,tokenizer)\n",
    "              \n",
    "                synonyms[replace_id] = Get_synonyms(mask_text,unmasker,ban_list+[token_text[replace_id]])\n",
    "                \n",
    "                if len(synonyms[replace_id])>=1:\n",
    "                \n",
    "                    synonym = random.choice(synonyms[replace_id])\n",
    "                      \n",
    "                    token_candidate[replace_id] = synonym\n",
    "                    \n",
    "                else:\n",
    "                    pass\n",
    "                \n",
    "        candidates.append(TreebankWordDetokenizer().detokenize(token_candidate))\n",
    "        \n",
    "        \n",
    "    return candidates\n",
    "\n",
    "\n",
    "\n",
    "\n",
    "def Visualise_rationales(original,rationale_spans,rationale_pos,visualise_all=False):\n",
    "    \n",
    "    if visualise_all:\n",
    "        highlighted = []\n",
    "        for idx,term in enumerate(word_tokenize(original)):\n",
    "            if idx in rationale_pos:\n",
    "                highlighted.append(colored(term,'blue'))\n",
    "            else:\n",
    "                highlighted.append(term)\n",
    "            \n",
    "        return TreebankWordDetokenizer().detokenize(highlighted)\n",
    "                \n",
    "    else:\n",
    "        highlights = []\n",
    "        for span in rationale_spans:\n",
    "            highlighted = []\n",
    "            for idx,term in enumerate(word_tokenize(original)):\n",
    "                if idx in span:\n",
    "                    highlighted.append(colored(term,'blue'))\n",
    "                else:\n",
    "                    highlighted.append(term)\n",
    "                    \n",
    "            highlights.append(TreebankWordDetokenizer().detokenize(highlighted))\n",
    "        \n",
    "        return highlights\n",
    "    \n"
   ]
  },
  {
   "cell_type": "code",
   "execution_count": 5,
   "metadata": {},
   "outputs": [],
   "source": [
    "args = {\n",
    "    'ori_train_dir':'./datasets/IMDb/orig/train.tsv',\n",
    "    'positive_dir':'./datasets/positive-words.txt',\n",
    "    'negative_dir':'./datasets/negative-words.txt',\n",
    "    'train_random_seed':2019,                                        ## random seed for subsampling training set\n",
    "    'num_per_class': 25,                                              ## number of examples per class for initial training set\n",
    "    'save_dir': './SF_results/IMDb_step0_sf_trainer',                                   ##directory for saving models              \n",
    "    'num_per_example':7\n",
    "}"
   ]
  },
  {
   "cell_type": "code",
   "execution_count": null,
   "metadata": {},
   "outputs": [],
   "source": []
  },
  {
   "cell_type": "markdown",
   "metadata": {},
   "source": [
    "## Training data augmented by false rationales"
   ]
  },
  {
   "cell_type": "code",
   "execution_count": 32,
   "metadata": {},
   "outputs": [],
   "source": [
    "from transformers import BartForConditionalGeneration, BartTokenizer\n",
    "\n",
    "## import train data\n",
    "IMDb_data = {}\n",
    "\n",
    "with open(args['ori_train_dir'],errors='ignore') as file:\n",
    "    file = csv.reader(file, delimiter=\"\\t\")\n",
    "    for idx,row in enumerate(file):\n",
    "        if len(row)>0:\n",
    "\n",
    "            if row[0] == 'Negative':\n",
    "                IMDb_data[row[2]] = {'text':row[1],'label':0}\n",
    "            else:\n",
    "                IMDb_data[row[2]] = {'text':row[1],'label':1}"
   ]
  },
  {
   "cell_type": "code",
   "execution_count": 33,
   "metadata": {},
   "outputs": [],
   "source": [
    "## load false rationales positions\n",
    "false_rationales_dir = f\"{args['save_dir']}_{args['train_random_seed']}_{args['num_per_class']}_{args['num_per_example']}/false_rationles.tsv\""
   ]
  },
  {
   "cell_type": "code",
   "execution_count": 34,
   "metadata": {},
   "outputs": [],
   "source": [
    "false_rationales = {}\n",
    "with open(false_rationales_dir,'r',errors='ignore') as file:\n",
    "    file = csv.reader(file, delimiter='\\t')\n",
    "    for idx,row in enumerate(file):\n",
    "        if idx!=0:\n",
    "            false_rationales[row[0]] = ast.literal_eval(row[1])\n",
    "          \n",
    "positive_terms = []            \n",
    "with open(args['positive_dir'],'r') as file:\n",
    "    positive_terms=file.read().splitlines()\n",
    "    \n",
    "negative_terms = []            \n",
    "with open(args['negative_dir'],'r') as file:\n",
    "    negative_terms=file.read().splitlines()"
   ]
  },
  {
   "cell_type": "markdown",
   "metadata": {},
   "source": [
    "# visualise false rationales spans"
   ]
  },
  {
   "cell_type": "code",
   "execution_count": 35,
   "metadata": {},
   "outputs": [
    {
     "name": "stdout",
     "output_type": "stream",
     "text": [
      "doc_id:8518\n",
      "If there's one thing you can count on Disney to do, it's their uncanny ability to take a story and tell it again and again and again \u001b[34m.\u001b[0m \u001b[34mEven\u001b[0m watching the commercial for Lady and the Tramp II was a horrible experience . Disney's going to ruin one of their most awesome classics ever . \u001b[34mIt\u001b[0m even had that spaghetti meatball scene . It's been done before! And that's what I say to this sorry direct to video (the entire concept should be banned). Everything is just a rehash of the original movie and even several of Bluth's really bad movies . The penguin and walrus duo (I've even forgotten their names) are just a really poor carbon copy of Timon and Pumbaa . Morgana is another Ursula . She even repeats practically all her old lines . The songs are pathetic, really abysmal . I've never heard songs so bad from them before until now . And the dialogue is atrocious . It's pathetic and simplistic . On the plus side, at least they took the time to make the animation somewhat decent . All of the usual characters aren't as annoying as they used to be (or maybe that's a minus for Little Mermaid fans). Back on the negative, \u001b[34mMelody\u001b[0m is just so sickeningly cute you just might vomit . I almost did . Do yourself and your Little Mermaid fan a favor . Don't waste your money on this . True, it's not as horrific as Return of Jafar or Pocahontas II, \u001b[34mbut\u001b[0m \u001b[34mthat\u001b[0m \u001b[34m's\u001b[0m \u001b[34mlittle\u001b[0m \u001b[34mconsolation\u001b[0m \u001b[34m.\u001b[0m\n",
      "****************************************************************************************************\n",
      "doc_id:6381\n",
      "I am really surprised that this movie get a ranking like this! I haven't seen such a bad movie for years . Omg this was a really bad movie . Splatter, is not enough to describe the unnecessary (nearly funny) blood scenes \u001b[34m)\u001b[0m \u001b[34m.\u001b[0m \u001b[34mIf\u001b[0m \u001b[34myou\u001b[0m \u001b[34mdid\u001b[0mn't like hostel2 or Wolf Creek or Halloween (2007).. well this is 10 time worse . The story remind me RL Stine goosebumps. \u001b[34m!\u001b[0m \u001b[34mI\u001b[0m \u001b[34mca\u001b[0mn't tell about \u001b[34mthe\u001b[0m \u001b[34macting\u001b[0m \u001b[34msince\u001b[0m \u001b[34mthe\u001b[0m script was so terrible . Clich茅 all the time . \u001b[34m(\u001b[0m \u001b[34mwhy\u001b[0m \u001b[34mi\u001b[0m must write 10lines? i never understood this . \u001b[34m)\u001b[0m \u001b[34m==Here\u001b[0m \u001b[34mcomes\u001b[0m \u001b[34mspoilers==\u001b[0m The story is about a butcher killing people all the time in metro . We are talking about thousands of killings and no one gets notice . Actually those people are just missing . And There is the good guy that tries to solve the mystery (well there is no mystery for us because we know from the beginning the bad guy) and as usual no one believes him! what a surprise! In the end he puts butcher clothes and fights to death with the \u001b[34mkiller\u001b[0m \u001b[34mbutcher\u001b[0m \u001b[34m!\u001b[0m\n",
      "****************************************************************************************************\n",
      "doc_id:6076\n",
      "Ever heard \u001b[34mof\u001b[0m \u001b[34ma\u001b[0m \u001b[34mtaiwanese\u001b[0m \u001b[34mhorror\u001b[0m \u001b[34mmovie\u001b[0m? Or any taiwanese movie \u001b[34m?\u001b[0m \u001b[34mPropably\u001b[0m \u001b[34mfor\u001b[0m a reason . This one was a really boring one, even though it has black magic including withered baby bodies and people exploding from the inside with thousands of eels . Having read other peoples thoughts, I was looking forward for \u001b[34msome\u001b[0m \u001b[34mviolence\u001b[0m and gore, but there's \u001b[34mnot\u001b[0m \u001b[34mmuch\u001b[0m \u001b[34mat\u001b[0m all . Some blood puking and other lame stuff, if you are waiting for graphic gore or any gruesome effects you will be disappointed . They clearly didn't use the eel exploding and other things to their maximum potent . Pretty much nothing good about this movie; a single character that wasn't completely bland and a few OK black magic spells, like the eel one \u001b[34m.\u001b[0m \u001b[34mThe\u001b[0m \u001b[34mplot\u001b[0m was confusing and boring . The characters were thin and annoying, including the main character . The horror aspect didn't work at \u001b[34mall\u001b[0m \u001b[34m,\u001b[0m \u001b[34mthe\u001b[0m \u001b[34mmost\u001b[0m horrifying thing was an albino girl \u001b[34m(\u001b[0m \u001b[34mnot\u001b[0m \u001b[34mthat\u001b[0m \u001b[34mscary\u001b[0m \u001b[34mreally\u001b[0m). This is the worst Asian horror movie I have ever seen.\n",
      "****************************************************************************************************\n",
      "doc_id:4047\n",
      "I \u001b[34mcould\u001b[0m \u001b[34mnot\u001b[0m \u001b[34mbelieve\u001b[0m \u001b[34mhow\u001b[0m awful this film was; I rarely watch commercial TV, but thought \"Well, Diane Keaton is always worth watching\". I stand corrected . Everyone involved should be hanging their heads in shame . I realize there are not a lot of great roles for women of a \u001b[34mcertain\u001b[0m \u001b[34mage\u001b[0m \u001b[34m,\u001b[0m \u001b[34mbut\u001b[0m \u001b[34mthe\u001b[0m \u001b[34mscript\u001b[0m to this was so inept, clich茅d and baffling that I am surprised it ever got into development or that Ms. Keaton thought she could make a silk purse out of this sow's ear . None of the characters had a shred of believability and were so incredibly unlikeable . The acting looked like exercises in a BEGINNING class - I stared in open-mouthed horror through most of this \u001b[34mwondering\u001b[0m \u001b[34m\"\u001b[0m \u001b[34mWhat\u001b[0m \u001b[34mwere\u001b[0m \u001b[34mthey\u001b[0m thinking?\". Very, very sad that \u001b[34mit\u001b[0m \u001b[34mhas\u001b[0m \u001b[34mcome\u001b[0m \u001b[34mto\u001b[0m \u001b[34mthis\u001b[0m \u001b[34m.\u001b[0m Don't waste your \u001b[34mtime\u001b[0m \u001b[34m.\u001b[0m\n",
      "****************************************************************************************************\n",
      "doc_id:1624\n",
      "Jude Law gives his all \u001b[34min\u001b[0m \u001b[34mthis\u001b[0m \u001b[34mbeautifully\u001b[0m \u001b[34mfilmed\u001b[0m \u001b[34mvampire\u001b[0m flick which offers little else of value . Completely lacking in eroticism, excitement, or leading ladies with appeal . One decent fight, a few moments of mild suspense . And a one-note plot . The movie waxes philisophic in a series of conversations between Law's character and a \u001b[34mdogged\u001b[0m \u001b[34mhomicide\u001b[0m \u001b[34mdetective\u001b[0m, well played by Timothy Spall . But despite their best efforts, \u001b[34mboth\u001b[0m \u001b[34mactors\u001b[0m \u001b[34mare\u001b[0m staked to the cross of the film's banality . With a lesser actor in the lead \u001b[34mrole\u001b[0m \u001b[34m--\u001b[0m \u001b[34mand\u001b[0m without the benefit of Oliver Curtis \u001b[34m's\u001b[0m \u001b[34mcinematography\u001b[0m \u001b[34m--\u001b[0m \u001b[34mCrocodiles\u001b[0m would blend into the sea of low-budget vampire quickies \u001b[34m.\u001b[0m\n",
      "****************************************************************************************************\n",
      "doc_id:5434\n",
      "This is \u001b[34man\u001b[0m \u001b[34mart\u001b[0m \u001b[34mfilm\u001b[0m that was either made in 1969 or 1972 (the \u001b[34mNational\u001b[0m \u001b[34mFilm\u001b[0m \u001b[34mPreservation\u001b[0m \u001b[34mFoundation\u001b[0m says 1969 and IMDb says 1972). Regardless of the exact \u001b[34mdate\u001b[0m \u001b[34m,\u001b[0m \u001b[34mthe\u001b[0m \u001b[34mfilm\u001b[0m definitely appears to be very indicative of this general time period--with some camera-work and pop art stylings that are pure late \u001b[34m60s-early\u001b[0m \u001b[34m70s\u001b[0m . The \u001b[34mfilm\u001b[0m \u001b[34mconsists\u001b[0m \u001b[34mof\u001b[0m three \u001b[34msimple\u001b[0m \u001b[34mimages\u001b[0m that are distorted using different weird camera tricks . These distorted images are accompanied by music and there is absolutely no dialog or plot of any sort . This was obviously intended as almost like \u001b[34ma\u001b[0m \u001b[34mform\u001b[0m \u001b[34mof\u001b[0m performance art, and like most performance art, it's interesting at first but quickly becomes tiresome . The film, to put it even more bluntly, is a total bore and \u001b[34mwould\u001b[0m \u001b[34mappeal\u001b[0m \u001b[34mto\u001b[0m no one but perhaps those who made the film, their family and friends and perhaps a few people just too hip and \"with it\" to be \u001b[34munderstood\u001b[0m \u001b[34mby\u001b[0m \u001b[34mus\u001b[0m \u001b[34mmortals\u001b[0m \u001b[34m.\u001b[0m\n",
      "****************************************************************************************************\n",
      "doc_id:1909\n",
      "... is the only way \u001b[34mto\u001b[0m \u001b[34mdescribe\u001b[0m this movie about subjects that should be surefire: \u001b[34mscandal\u001b[0m \u001b[34m,\u001b[0m \u001b[34msex\u001b[0m, celebrity, power . Kirsten Dunst grins her way through her role as silent movie star Marion Davies like she thinks she's in \"Legally Blonde .\" \u001b[34mThe\u001b[0m guy who plays William Randolph Hearst overacts to the point where you want to reach into the screen and slap him . Eddie Izzard is pretty good, except that he's playing Charlie Chaplin, and is about, oh, 125 lbs too heavy for the part? Hard to believe this hamfisted, uneven wreck was directed by Peter Bogdanovich, \u001b[34mbut\u001b[0m \u001b[34mthen\u001b[0m \u001b[34magain\u001b[0m \u001b[34m,\u001b[0m \u001b[34mhe\u001b[0m hasn't made a watchable movie in, what? 30 years? \u001b[34mSometimes\u001b[0m \u001b[34m,\u001b[0m there's just no coming back.\n",
      "****************************************************************************************************\n",
      "doc_id:178\n",
      "Profanity, stupidity, self-indulgence, and bad acting all join forces for a true tour de force in terrible movie-making \u001b[34m.\u001b[0m \u001b[34mPesci\u001b[0m \u001b[34m's\u001b[0m \u001b[34mattempt\u001b[0m to \u001b[34mprove\u001b[0m \u001b[34mMy\u001b[0m \u001b[34mCousin\u001b[0m \u001b[34mVinny\u001b[0m was no fluke, shows the opposite instead . \u001b[34mHe\u001b[0m \u001b[34mis\u001b[0m generally too lightweight and foulmouthed \u001b[34mto\u001b[0m \u001b[34mhandle\u001b[0m the lead . A true must-miss!\n",
      "****************************************************************************************************\n",
      "doc_id:7502\n",
      "It was the tag-line \"in the tradition of American Pie\" that fooled me into renting this movie \u001b[34m.\u001b[0m \u001b[34mWhat\u001b[0m I got was a piece of junk in the style of Jackass, with the major difference that compared to this Jackass the Movie seems like a Citizen \u001b[34mKane\u001b[0m \u001b[34m.\u001b[0m This movie made me regret that I rewarded other movies with 1 out of 10, because now I can't go beneath that . This one makes quite some bad movies look like \u001b[34mcinematic\u001b[0m \u001b[34mfeats\u001b[0m \u001b[34m.\u001b[0m \u001b[34mI\u001b[0m actually turned it off after 45 minutes, and that's something I very rarely do . But it was just too plain boring, stupid, uninteresting and unnecessary \u001b[34m.\u001b[0m Can't believe some people actually reward this with 10 out of 10 \u001b[34m.\u001b[0m \u001b[34mWhat\u001b[0m did your parents do? Drop you on the head when you were just a child? Or was it the very first movie you ever saw, so you got nothing to compare it to \u001b[34m?\u001b[0m Are you still a virgin and are breasts all you ever think off? Something must be wrong, at least . My advice: stay clear of this one . Even if your in the mood for a simple movie that doesn't require thinking, choose something else, or you'll regret it for sure.\n",
      "****************************************************************************************************\n",
      "doc_id:2839\n",
      "\u001b[34mBeing\u001b[0m an \u001b[34mElvis\u001b[0m \u001b[34mfan\u001b[0m \u001b[34m,\u001b[0m I can't understand how \u001b[34mthis\u001b[0m \u001b[34mproyect\u001b[0m \u001b[34mcould\u001b[0m be done . Is by far the worst Elvis related movie of all time, totally unfunny, silly and plenty of mistakes about The King . Come on, Elvis' grave in a public park? A mention about Suspicious Minds in 1958?...and these are just two examples . Some people in the cast tries to do their best, Mike Starr is funny (specially as an impersonator), the Tom Hanks cameo is a surprise, but the \u001b[34mguy\u001b[0m \u001b[34mplaying\u001b[0m the young Elvis sucks . Overall the movie lacks fun and becomes more boring minute after minute . If you want to see an ultra cheap, insane but absolutely funny little film related to Elvis, \u001b[34mI\u001b[0m \u001b[34mtruly\u001b[0m \u001b[34mrecommend\u001b[0m \u001b[34myou\u001b[0m \u001b[34mBubba\u001b[0m \u001b[34mHo-Tep\u001b[0m \u001b[34m\"\u001b[0m instead of this mess.\"\n",
      "****************************************************************************************************\n",
      "doc_id:6248\n",
      "Phantasm .... Class . \u001b[34mPhantasm\u001b[0m \u001b[34mII\u001b[0m \u001b[34m.....\u001b[0m awesome . \u001b[34mPhantasm\u001b[0m \u001b[34mIII\u001b[0m \u001b[34m.....\u001b[0m erm ..... terrible . Even though i would love to stick up for this film, i quite \u001b[34msimply\u001b[0m \u001b[34mca\u001b[0mn't . The movie seems to have \"sold out\". First bad signs come when the video has trailers for other films at the start (something the others did not). Also too many pointless characters, prime examples the kid \u001b[34m(\u001b[0m \u001b[34mwho\u001b[0m is a crack shot, funny initially but soon you want him dead), the woman who uses karate to fight off the balls (erm not gonna work, or rather shouldn't) and the blooming zombies (what the hell are they doing there, there no link to them in the other Phatasms). Also there is a severe lack of midgets running about . The \u001b[34monly\u001b[0m \u001b[34mgood\u001b[0m \u001b[34mbits\u001b[0m \u001b[34mare\u001b[0m \u001b[34mthe\u001b[0m cracking start and, of course, Reggie B . (Possible SPOILER coming Up) To me this film seems like a filler between II and IV as extra characters just leave at the end so can continue with main 4 in IV . Overall very, VERY disappointing \u001b[34m.\u001b[0m \u001b[34m3\u001b[0m \u001b[34m/\u001b[0m 10\n",
      "****************************************************************************************************\n",
      "doc_id:8800\n",
      "My wife and I rented this movie because some people had drawn parallels between it and \"Office Space\". Blockbuster and IMDB even had it as an \"also recommended\" selection if you liked \"Office Space\". Now, I've seen Office Space probably 15 or 20 times \u001b[34m.\u001b[0m \u001b[34mI\u001b[0m \u001b[34mlove\u001b[0m \u001b[34mit\u001b[0m \u001b[34m.\u001b[0m \u001b[34mIt\u001b[0m \u001b[34m's\u001b[0m \u001b[34mprobably\u001b[0m \u001b[34mone\u001b[0m of my 10 favorite movies . Witty, \u001b[34mhumorous\u001b[0m \u001b[34m,\u001b[0m \u001b[34mand\u001b[0m featuring characters that remind me of people I've worked with over the years . \"Haiku Tunnel\" is similar to \"office Space\" in that they are both films . That's where the similarity ends . We sat through probably the first 50 minutes of HT, giving it the benefit of the doubt, hoping, nay, * praying * that it would get better . It didn't . We couldn't take it any more, and stopped the tape . Thank GOD it was a free rental . I'd have been p * * * ed if we'd actually paid for it . We should be reimbursed for having to sit through it . Now, since we didn't see the end, perhaps it miraculously comes together and redeems itself . I doubt it . Haiku Tunnel is so bad it's hard to believe it ever got produced . The movie is SO unfunny it's painful . Just mail the friggin letters already!!! The premise is asinine . The jokes are awful . We got as far as the \"printer doesn't work\" scene and had to stop . We couldn't take it anymore . This film is an EMBARRASMENT for Josh Kornbluth . If you are a fan of Office Space \u001b[34m......\u001b[0m \u001b[34mdo\u001b[0m \u001b[34mn't\u001b[0m waste your time with this turd . 0/10\n",
      "****************************************************************************************************\n",
      "doc_id:6537\n",
      "I just got through watching this \u001b[34mDVD\u001b[0m \u001b[34mat\u001b[0m \u001b[34mhome\u001b[0m . We love Westerns, \u001b[34mso\u001b[0m \u001b[34mmy\u001b[0m \u001b[34mhusband\u001b[0m \u001b[34mrented\u001b[0m \u001b[34mit\u001b[0m . He started apologizing to me half way through . The saddles, costumes, accents--everything was off . The part that made me so mad is where the guy didn't shoot the \"collector\" with his bow and arrow as he was taking the fat guy's soul . His only excuse was \"he only had 2 arrows left . \u001b[34m\"\u001b[0m \u001b[34mWe\u001b[0m watched it all the way through, and, as someone else said...too many bad things to single out any one reason why it sucked . I mean, the fact \u001b[34mthat\u001b[0m \u001b[34mthe\u001b[0m boy happened to snatch the evil stone from the collector on the same month and day it was found, what's the point of that? And why were there a grave yard where everyone died on April 25 but the people whose souls were taken by the collector were still up walking around? If you want a movie to make fun of after a few beers, this \u001b[34mmay\u001b[0m \u001b[34mbe\u001b[0m \u001b[34myour\u001b[0m movie . However, if you want a real Western, you will hate \u001b[34mthis\u001b[0m \u001b[34mmovie\u001b[0m \u001b[34m.\u001b[0m\n",
      "****************************************************************************************************\n",
      "doc_id:1971\n",
      "This is the worst movie I have ever seen . The Avengers held this dubious honor but \u001b[34mno\u001b[0m \u001b[34mlonger\u001b[0m \u001b[34m.\u001b[0m \u001b[34mThe\u001b[0m \u001b[34macting\u001b[0m in \"Jill the Ripper\" is terrible and was only eclipsed by \u001b[34mthe\u001b[0m \u001b[34mplot\u001b[0m \u001b[34m.\u001b[0m This movie is as intellectually stimulating as \u001b[34mthe\u001b[0m \u001b[34mTelletubbes\u001b[0m \u001b[34m.\u001b[0m It doesn't know whether it wants to be an S & M flick or a really bad \u001b[34mthriller\u001b[0m \u001b[34m.\u001b[0m \u001b[34mOnly\u001b[0m \u001b[34mwatch\u001b[0m under extreme intoxication or if you're bed ridden and need a leather clad distraction . This script should be reworked into a porn, it wouldn't take very much effort and would have a longer shelf life . A porn, even a bad porn, wouldn't do the damage to Dolf Lundgren's career the way that this \u001b[34mmovie\u001b[0m \u001b[34mhas\u001b[0m \u001b[34m.\u001b[0m\n",
      "****************************************************************************************************\n",
      "doc_id:5637\n",
      "Well...the movie \u001b[34mwas\u001b[0m \u001b[34ma\u001b[0m \u001b[34mfun\u001b[0m watch . \u001b[34mThe\u001b[0m \u001b[34mmain\u001b[0m \u001b[34mproblem\u001b[0m \u001b[34mwith\u001b[0m \u001b[34mthis\u001b[0m movie is the fact that it goes against everything that most vampire myths abide by . Like vampires that walk in the sunlight . Though there are parts that just make you enjoy the way society makes movies . A scene where a vampire gets stabbed and screams \"Ow this hurts...It's really stuck .\" Then there seems like there might be scenes missing but you get used to after a while . And there are random dream sequenes' that really don't help with the plot . Come to think of it, nothing really made sense, \u001b[34mbut\u001b[0m \u001b[34mi\u001b[0m just got a bunch of friends and watched it twice to get the full effect . Come to think of it the fight scenes were aweful, and the zombies were just fun to watch . Slowly as i write more of this I like this movie more . But you know, all in all you can't expect \u001b[34mSchindlers\u001b[0m \u001b[34mList\u001b[0m \u001b[34mbut\u001b[0m \u001b[34mits\u001b[0m a \u001b[34mfun\u001b[0m \u001b[34mwatch\u001b[0m \u001b[34m.\u001b[0m\n",
      "****************************************************************************************************\n",
      "doc_id:7638\n",
      "No one should ever try to adapt a Tom Robbins book for screen . While the movie is fine and the performances are good, the dialogue, \u001b[34mwhich\u001b[0m \u001b[34mworks\u001b[0m \u001b[34mwell\u001b[0m \u001b[34mreading\u001b[0m \u001b[34mit\u001b[0m, is crap when spoken . Or, to put it another way, no one would be likely to suggest that hearing someone else's name was like seeing it written in radium on a pearl . Overall, the \u001b[34mmovie\u001b[0m \u001b[34mfeels\u001b[0m like a badly-adapted Cliffs Notes to the book - most of the parts have been hacked down to a fifth of their size in the book, in \u001b[34mterms\u001b[0m \u001b[34mof\u001b[0m \u001b[34mbackstory\u001b[0m and current story, and the ending is wildly (and unpleasantly) different from that of the book . \u001b[34mMost\u001b[0m \u001b[34mof\u001b[0m the plots from the book have gotten lost, including the one that makes everything make sense at the end, and there's more than one reference that makes sense in the book that makes the viewer say \"Huh?\" Not a worthy effort, unfortunately - the script should have been read, compared to the \u001b[34mbook\u001b[0m \u001b[34m,\u001b[0m \u001b[34mburned\u001b[0m, and all the actors sent off to do something far better . I admire Gus Van Sant tremendously, but not even someone \u001b[34mof\u001b[0m \u001b[34mhis\u001b[0m \u001b[34mcalibre\u001b[0m \u001b[34mcould\u001b[0m \u001b[34mhave\u001b[0m made a decent movie of such \u001b[34ma\u001b[0m \u001b[34mcomplex\u001b[0m \u001b[34mbook\u001b[0m without making \u001b[34ma\u001b[0m \u001b[34mminiseries\u001b[0m \u001b[34m.\u001b[0m\n",
      "****************************************************************************************************\n",
      "doc_id:9379\n",
      "I've finally seen THE INCUBUS after waiting 20 something odd years to see it and well, it surely wasn't worth waiting all this time to see it . \u001b[34mTHE\u001b[0m \u001b[34mINCUBUS\u001b[0m \u001b[34mis\u001b[0m \u001b[34mstrictly\u001b[0m \u001b[34mby-the-number\u001b[0m \u001b[34mhorror\u001b[0m \u001b[34mfilm\u001b[0m: unseen killer/monster is raping and murdering women in a small town . The film goes like this: movie opens with killing; then blah blah blah; more blah blah blah; then another killing; even more blah blah blah; continuing with blah blah blah; yet another killing (surprising, huh?); blah blah blah, etc...The film is totally predictable from beginning to end . Even the stupid \"big\" red-herring used throughout the movie wouldn't convince a 5 year old . And I figured out the secret identity of the incubus the moment I saw the character, so when the \"shocking\" surprise ending arrived, I wasn't \u001b[34mshocked\u001b[0m \u001b[34mor\u001b[0m \u001b[34msurprised\u001b[0m . In fact, it \u001b[34mwas\u001b[0m \u001b[34mso\u001b[0m \u001b[34mfunny\u001b[0m \u001b[34mthat\u001b[0m \u001b[34mI\u001b[0m kept on chuckling days after I saw the movie . It's so silly! Anyway, the film is so by-the-number that the \"rock band\" sequence is one of the few stand-out moments in this dreary flick . It's a \u001b[34mstand-out\u001b[0m \u001b[34mscene\u001b[0m \u001b[34mnot\u001b[0m necessarily because it's good but because it's so \u001b[34mfunny\u001b[0m \u001b[34mand\u001b[0m pointless: the movie playing on the big screen shows a rock video-like moment with a guy in red leather pants getting his obviously fake long hair cut, all of this edited with scenes of a girl who is being attacked in the movie theater's washroom by the incubus . The best thing I could \u001b[34msay\u001b[0m \u001b[34mabout\u001b[0m \u001b[34mthis\u001b[0m film is the cinematography \u001b[34m,\u001b[0m \u001b[34mwhich\u001b[0m \u001b[34mI\u001b[0m actually liked . But aside from that, there's almost nothing worth \u001b[34mmentioning\u001b[0m \u001b[34mabout\u001b[0m \u001b[34mTHE\u001b[0m INCUBUS, except that it's unintentionally hilarious.\n",
      "****************************************************************************************************\n",
      "doc_id:8000\n",
      "\u001b[34mHaving\u001b[0m \u001b[34mread\u001b[0m \u001b[34mthe\u001b[0m comments \u001b[34mon\u001b[0m \u001b[34mthe\u001b[0m site I feel compelled to write in for the first time . It seems this movie is like Marmite and has \u001b[34msplit\u001b[0m \u001b[34mthe\u001b[0m \u001b[34maudience\u001b[0m . I have to say that while I agree films don't have to make sense to be enjoyable (see MULHOLLAND DRIVE) they still have \u001b[34mto\u001b[0m \u001b[34mengage\u001b[0m you with the characters . Now while I was totally absorbed by the \u001b[34mmurderous\u001b[0m \u001b[34mlesbian\u001b[0m \u001b[34maffair\u001b[0m in Lynch's opus, I have to say I couldn't give a turd about Mr Green or the other cardboard gangsters that inhabited this dayglo world . Also, while so many people seem to try and say you didn't enjoy because you didn't get it I would have to disagree - I didn't enjoy because I was bored . I wanted the film to end and constantly listening to those quotes over and over again did not help . Call it \u001b[34mclever\u001b[0m if you will - I think it's repetitious . However, my main reason \u001b[34mfor\u001b[0m \u001b[34mwriting\u001b[0m \u001b[34mis\u001b[0m \u001b[34mto\u001b[0m ask all the other reviewers a \u001b[34mquestion\u001b[0m - there were no end credits on the print of the film I saw . Just music over black . Did I watch a dud print or is this evidence of GR's pretentiousness? Or, did everyone involved in the movie watch the rough cut and have their name removed???\n",
      "****************************************************************************************************\n",
      "doc_id:440\n",
      "The main question I pose concerning this film is, how do you \u001b[34mfilm\u001b[0m \u001b[34ma\u001b[0m \u001b[34mcole\u001b[0m \u001b[34mporter\u001b[0m musical and only use 3 of his 15 songs! \u001b[34mmerman\u001b[0m \u001b[34mand\u001b[0m \u001b[34mlahr\u001b[0m \u001b[34mplayed\u001b[0m the \u001b[34mlead\u001b[0m \u001b[34mroles\u001b[0m \u001b[34mon\u001b[0m broadway, here \u001b[34mthey\u001b[0m \u001b[34mare\u001b[0m \u001b[34mreplaced\u001b[0m \u001b[34mby\u001b[0m the weaker red skelton and lucille ball . plot changes abound and the fun is lost . SKIP IT.\n",
      "****************************************************************************************************\n",
      "doc_id:6245\n",
      "I'll tell you what happened, some people with money thought it would be nice to ruin one of the best shows that was on TV . Did we really need a big screen re-make? Did they ask the fans? I wonder how all the fans would feel if they did a remake of \"Rocky Horror Picture Show\" with actors like Ashton Krutcher, Steve Martin, Britney Spears, and Kiefer Southerland, took out all the music, and made it a drama . Do you \u001b[34mthink\u001b[0m \u001b[34mthey\u001b[0m \u001b[34mwould\u001b[0m \u001b[34mlike\u001b[0m \u001b[34mthat\u001b[0m! This movie does not have the same feel to it that the original had . Sure the original was a bit corny at times \u001b[34m,\u001b[0m \u001b[34mbut\u001b[0m \u001b[34mBo\u001b[0m \u001b[34mand\u001b[0m Luke were always nice \u001b[34m,\u001b[0m \u001b[34mthey\u001b[0m \u001b[34mgot\u001b[0m into trouble because they were always set up to get into trouble, and their main objective was to help people that passed through town . None of that mattered to the \u001b[34mpeople\u001b[0m \u001b[34mthat\u001b[0m made this film \u001b[34m,\u001b[0m \u001b[34mthey\u001b[0m \u001b[34mmight\u001b[0m have never even seen the original show all the way through . My \u001b[34mbig\u001b[0m \u001b[34mquestion\u001b[0m \u001b[34mis\u001b[0m \u001b[34m,\u001b[0m \u001b[34mwhat\u001b[0m \u001b[34mwill\u001b[0m they ruin next?\n",
      "****************************************************************************************************\n",
      "doc_id:5380\n",
      "This is one of the most irritating, nonsensical movies I've ever had the misfortune to sit through . Every time it started to look like it might be getting good, out come more sepia tone flashbacks, followed by paranoid idiocy masquerading as social commentary . \u001b[34mThe\u001b[0m \u001b[34mmain\u001b[0m \u001b[34mcharacter\u001b[0m \u001b[34m,\u001b[0m \u001b[34mMaddox\u001b[0m, is a manipulative, would-be rebel who lives in a mansion seemingly without any parents or responsibility . The supporting cast are all far more likeable and interesting, but are unfortunately never developed . Nor do we ever really understand the John Stanton character supposedly influencing Maddox to commit the acts of rebellion . \u001b[34mAt\u001b[0m \u001b[34mone\u001b[0m \u001b[34mpoint\u001b[0m, I \u001b[34mthought\u001b[0m \u001b[34m\"\u001b[0m \u001b[34mAha\u001b[0m \u001b[34m!\u001b[0m \u001b[34mMaddox\u001b[0m is just nuts and is secretly making up all those communications from escaped mental patient Stanton! Now we're getting somewhere!\" but of course, that ends up to not be the case and the whole movie turns out to be pointless, both \u001b[34mfrom\u001b[0m \u001b[34mMaddox\u001b[0m \u001b[34m's\u001b[0m \u001b[34mperspective\u001b[0m \u001b[34mand\u001b[0m the viewer's . Where's Ferris Bueller when we need him?\n",
      "****************************************************************************************************\n",
      "doc_id:6835\n",
      "I saw this recently with my wife and discovered it's better than Caine believes, although it's not much cop . Britain's greatest ever screen actor does not seem too interested in this role, which is a pity as he might have elevated it with more conviction in his playing . Rex Harrison seems even less bothered, perhaps unsurprisingly, as his character is very poorly written . William Holden is better, but his screen time is fleeting and, again, his character is not well scripted . Beverly Johnson is as beautiful a woman as I have ever seen, but is given very little to do, the film might have gained a great deal by concentrating more on her \u001b[34mstory\u001b[0m \u001b[34m.\u001b[0m \u001b[34mUstinov\u001b[0m \u001b[34msteals\u001b[0m \u001b[34mthe\u001b[0m show, but basically by playing a comic character quite out of keeping with the film's serious tone . The music is poor and Omar Sharif makes one of his many pointless cameos (his career has been based on this for decades now) \u001b[34m.\u001b[0m \u001b[34mRichard\u001b[0m \u001b[34mFleischer\u001b[0m has to be blamed for not directing this more effectively, he was an infuriatingly unpredictable film director, and this is \u001b[34mone\u001b[0m \u001b[34mof\u001b[0m \u001b[34mhis\u001b[0m weaker movies \u001b[34m.\u001b[0m\n",
      "****************************************************************************************************\n",
      "doc_id:1638\n",
      "\u001b[34mWhoever\u001b[0m \u001b[34mwrote\u001b[0m the script \u001b[34mfor\u001b[0m this movie does not deserve to work in Hollywood at all (not even live there \u001b[34m)\u001b[0m, and those actors need to find another job . The most dreadful hour and some minutes of my \u001b[34mlife\u001b[0m \u001b[34m...\u001b[0m and I only kept watching to see if it would get better which, unfortunately for me it did not . Even at \u001b[34mthe\u001b[0m \u001b[34mend\u001b[0m, the credits \u001b[34mgave\u001b[0m me anxiety . I \u001b[34mguess\u001b[0m there weren't a lot of people behind the movie so they had to roll the credits slowly...very slowly . This \u001b[34mmovie\u001b[0m \u001b[34mis\u001b[0m \u001b[34mdefinitely\u001b[0m a great \"How Not To Make a Movie\" guide . Too bad I can't give \u001b[34ma\u001b[0m \u001b[34m0\u001b[0m \u001b[34m.\u001b[0m\n",
      "****************************************************************************************************\n",
      "doc_id:7332\n",
      "This was an awful movie . Basically Jane March was a half-Korean North Korean spy sent by Kim Jong Il to do something horrible to \u001b[34mthe\u001b[0m \u001b[34mAmerican\u001b[0m \u001b[34mforces\u001b[0m in \u001b[34mSouth\u001b[0m \u001b[34mKorea\u001b[0m \u001b[34m.\u001b[0m She becomes a maid for an American military family, they all regard her as being Korean even though she looks more white (I believe the actress is either 1/4 or 1/8 Southeast Asian, not at all Korean), \u001b[34mand\u001b[0m \u001b[34mthe\u001b[0m \u001b[34mteenage\u001b[0m \u001b[34mboy\u001b[0m \u001b[34mof\u001b[0m \u001b[34mthe\u001b[0m \u001b[34mhousehold\u001b[0m \u001b[34mstarts\u001b[0m out hating her and ends up sleeping with her . The way Korea and the \u001b[34mU.S.\u001b[0m \u001b[34mmilitary\u001b[0m in Korea is depicted is completely insane . Of course, the screenwriter and the director were obviously white men who've never spent a day in Korea prior to this movie and had no intention of showing any real insight into life in Korea for either Koreans or American GIs and instead just tried \u001b[34mto\u001b[0m \u001b[34mfulfill\u001b[0m \u001b[34mtheir\u001b[0m \u001b[34mpathetic\u001b[0m Asiaphile fantasies without any regard to how completely unbelievable it made the movie . Anyone who's ever been to Korea will know this is utter garbage . In the end the North Korean honhyol spy-girl gets killed, in an obvious \"paying for her sins\" way . Very bad film with a made-for-TV feel \u001b[34mto\u001b[0m \u001b[34mit\u001b[0m \u001b[34m.\u001b[0m\n",
      "****************************************************************************************************\n",
      "doc_id:8710\n",
      "What \u001b[34ma\u001b[0m \u001b[34mfantastic\u001b[0m \u001b[34mpremise\u001b[0m: A movie about the Berlin Airlift . It should have it all . Tragedy . Suspense . Comradeship . Rivals . Berliner Frauleins and tough US pilots . \u001b[34mlove\u001b[0m \u001b[34mand\u001b[0m Tears . What we've got, is a film with none of the above . Heino Ferch tries to impersonate John Wayne or so, but he fails miserably . He acts so wooden, that at any \u001b[34mgiven\u001b[0m \u001b[34mmoment\u001b[0m \u001b[34mhe\u001b[0m should crack . He tries to play the tough guy, instead of being a tough guy! Why would Bettina Zimmermann's character fall in love with him? Cause they were throwing stones in a lake? Cause he brings her coal bricks? The SFX are very \u001b[34m,\u001b[0m \u001b[34mvery\u001b[0m \u001b[34mwell\u001b[0m done . Too much though . The hundreds or so planes over Berlin, look like an attack-fighter-formation-squadron rather than \u001b[34man\u001b[0m \u001b[34morganised\u001b[0m airlift 聳 as it actually was . Interestingly enough, the White House, the Kremlin, and General Lucius D. Clays office seem all to be one and the same dark and dusty set . Notice the same drapes, hanging deep down the windows, as if a protective shield against nuclear fallout . Why is almost every scene INSIDE dark and dusty? By the way, GENERAL LUCIUS D. CLAY, comes across as a small time, insecure, looser General \u001b[34m,\u001b[0m \u001b[34mwho\u001b[0m doest trust \u001b[34min\u001b[0m \u001b[34mhis\u001b[0m \u001b[34mown\u001b[0m noble idea the airlift . \u001b[34mHe\u001b[0m \u001b[34mwas\u001b[0m \u001b[34mvery\u001b[0m \u001b[34mmuch\u001b[0m the opposite . So you combine all those individual blunders and the result is a film with that builds toward no passion, no suspense and no historic accuracy . Sad, it started out so promising\n",
      "****************************************************************************************************\n",
      "doc_id:21030\n",
      "Trailers of this movie may show scenes of violence or non mainstream sexuality, but these \u001b[34mscenes\u001b[0m \u001b[34mare\u001b[0m \u001b[34mjust\u001b[0m rare fragments, picked out to attract audience . They are, of course showing the main message of the movie: People who are constantly kicked on their heads in their jobs and lives, using power, which they may have somewhere else, to notoriously oppress others . And at the low end of the oppression chain, mostly women \u001b[34m.\u001b[0m \u001b[34mA\u001b[0m \u001b[34mmovie\u001b[0m showing this as brutally as Hundstage is surely tough to face, but having to endure such lives, is even \u001b[34mtougher\u001b[0m \u001b[34m.\u001b[0m \u001b[34mTechnically\u001b[0m \u001b[34mthe\u001b[0m film is much like Short Cuts, but consisting of documentary style episodes, featuring people like your neighbour, playing just the way they are . Without any glitter, \u001b[34mand\u001b[0m \u001b[34mmost\u001b[0m \u001b[34mdisturbingly\u001b[0m \u001b[34m,\u001b[0m \u001b[34mwithout\u001b[0m any hope . Its documentary style makes the movie even more disturbing, because you realize, such people are out there, and there are many of them, although our society focuses on the nice exterior looks . Somewhere the porn industry has to do its business, somewhere unreported domestic violence has to take place, somewhere hopes have to shatter . I sure do know such people . If you want to see \u001b[34ma\u001b[0m \u001b[34mmovie\u001b[0m \u001b[34mwithout\u001b[0m \u001b[34many\u001b[0m \u001b[34mfunny\u001b[0m scenes (some may think the handicapped woman repeating the top ten supermarkets is funny, but this happens for real) and without any melodramatic, go watch this movie . However it will lose when you are focusing on subtitles I fear, as subtitles can麓t transport accentuation.\n",
      "****************************************************************************************************\n",
      "doc_id:18853\n",
      "Excellent pirate entertainment! It has all the good ingredients to keep one's attention--an absorbing tale of intrigue, a fiery lady pirate named Spitfire Stevens (Maureen O'Hara) who's attracted to the irresistible Mr. Hawke (Errol Flynn) who is out on a secret mission of his \u001b[34mown\u001b[0m \u001b[34m.\u001b[0m \u001b[34mThey\u001b[0m \u001b[34mmake\u001b[0m a fine romantic \u001b[34mpair\u001b[0m \u001b[34monscreen\u001b[0m \u001b[34m--\u001b[0m \u001b[34msigh\u001b[0m \u001b[34m!\u001b[0m \u001b[34mAnthony\u001b[0m Quinn is the mean, bad pirate weaving his villainous web of divide and conquer . I noticed the very familiar face of Mildred Natwick playing a supporting role as Mrs. MacGregor, the protector of young Princess Patma (Alice Kelley) \u001b[34m.\u001b[0m \u001b[34mThere\u001b[0m is beautifully filmed scenery of shorelines, ships, and the bay . Lots of action too of sword fighting clashes, ship battles, daring leaps of Errol Flynn (Robin Hood on board ship!). From the flaming redhead herself I once heard in an interview of Maureen O'Hara that she boasted great command of the bullwhip and could also outdo Flynn in sword fighting in those days but there'd be no need to put it to the test here . Very enjoyable movie.\n",
      "****************************************************************************************************\n",
      "doc_id:18602\n",
      "Shamefully, before I saw this film, I was unfamiliar with Helena Bonham Carter . I had to do some research, in order to assure myself she wasn't actually afflicted, as was her character, with (well?), what she was afflicted with . I was in absolute awe of this beautiful lady . She pulled it of flawlessly \u001b[34m.\u001b[0m \u001b[34mWho\u001b[0m \u001b[34mwould\u001b[0m \u001b[34mhave\u001b[0m \u001b[34mthought\u001b[0m that sexually explicit circumstances involving the final wants, and needs, of a unique young lady, could be interpreted as tender, and romantic? Well, they can \u001b[34mbe\u001b[0m \u001b[34m,\u001b[0m \u001b[34mwhen\u001b[0m the right performers present them in the proper manner, \u001b[34mas\u001b[0m \u001b[34mthey\u001b[0m \u001b[34mdid\u001b[0m \u001b[34min\u001b[0m this wonderful movie \u001b[34m.\u001b[0m \u001b[34mI\u001b[0m \u001b[34mforgot\u001b[0m to mention how dynamically beautiful Miss Carter looked in this movie . I have often said she was the most beautiful creature to have \u001b[34mever\u001b[0m \u001b[34mgraced\u001b[0m the face of our earth, \u001b[34mbut\u001b[0m \u001b[34mshe\u001b[0m \u001b[34mseemed\u001b[0m \u001b[34mto\u001b[0m \u001b[34mhave\u001b[0m \u001b[34mout\u001b[0m \u001b[34mdone\u001b[0m herself in this particular movie . I hope any of you who watch this movie enjoy it as much as I did . Thank you for letting me express my opinion.\n",
      "****************************************************************************************************\n",
      "doc_id:16809\n",
      "Young Mr.Lincoln is a poetic, beautiful film that captures the myth of one of the most revered figures in American history . Henry Fonda had the difficult task of portraying a mythical figure and at the same time make him human enough for people to care about . It is perhaps the actors best performance.Watch \u001b[34mhow\u001b[0m \u001b[34mhe\u001b[0m \u001b[34msinglehandedly\u001b[0m stops a lynching-mob.Alice Brady is fantastic in the role of a simple farmer woman.Most of the last part of the film plays out in a courtroom, and there lies the only negative thing I can say about this movie.Most of the characters from judge to spectators are given so many folksy humorously \u001b[34mlines\u001b[0m \u001b[34mthat\u001b[0m \u001b[34mdistracts\u001b[0m \u001b[34mfrom\u001b[0m \u001b[34mthe\u001b[0m serious trial that is \u001b[34mon\u001b[0m \u001b[34mhand.But\u001b[0m \u001b[34mI\u001b[0m'm quite used to this because the humor is a Ford trademark . Supporting parts by Ward Bond and Donald Meek are very good.\n",
      "****************************************************************************************************\n",
      "doc_id:14107\n",
      "Great, great, great! That is all I can say about that movie, \u001b[34mbut\u001b[0m \u001b[34mimdb\u001b[0m \u001b[34mwant\u001b[0m at least four lines of text so I'll elaborate . The cast was great (Jerry O'connel is soooo cute!), the music was great (The sixties had the best music ever, imho), the historical material was interesting, and so \u001b[34mwas\u001b[0m the way they made the actors of the \u001b[34m'90s\u001b[0m \u001b[34mseem\u001b[0m \u001b[34mlike\u001b[0m \u001b[34mthey\u001b[0m were actually there in the '60s . And most of all - \u001b[34mthe\u001b[0m \u001b[34mstories\u001b[0m \u001b[34mof\u001b[0m \u001b[34mthe\u001b[0m \u001b[34mmain\u001b[0m \u001b[34mcharacters\u001b[0m brought tears to my eyes, and that is the greatness of any drama \u001b[34m.\u001b[0m \u001b[34mBUT\u001b[0m \u001b[34mIN\u001b[0m ONE WORD: GREAT!\n",
      "****************************************************************************************************\n",
      "doc_id:18053\n",
      "A patchwork about 911 . The 11 stories from 11 directors from 11 countries are sometimes humoristic \u001b[34m,\u001b[0m \u001b[34msometimes\u001b[0m \u001b[34mboring\u001b[0m \u001b[34m(\u001b[0m \u001b[34mthe\u001b[0m \u001b[34mfirst\u001b[0m one, for example), sometimes used to say to Americans \"we have had more deaths than you, and you supported the murderers\", sometimes really \u001b[34mweird\u001b[0m \u001b[34m(\u001b[0m \u001b[34mbut\u001b[0m highly symbolic and interesting). I really loved the Claude Lelouch (personal live of a couple in New-York, showing that our day-to-day \"problems \u001b[34m\"\u001b[0m \u001b[34mare\u001b[0m \u001b[34munimportant\u001b[0m \u001b[34m)\u001b[0m, Shoei \u001b[34mImamura\u001b[0m \u001b[34m(\u001b[0m \u001b[34mbizarre\u001b[0m, strongly anti-wars in general), and Idrissa Ouedraogo (funny, typical African optimism despite terrible day to day misery), and Youssef Chahine (an Egyptian intellectual, pro-peace, having moral difficulties to accept the U.S. policy towards Arab countries) I am really pleased to see that many Americans liked this movie . It shows that we (or they? I am still Belgian, but living in Texas for 12 years) are still interested by other cultures, and able to question past and present actions of our government, like we should in a democracy.\n",
      "****************************************************************************************************\n",
      "doc_id:14487\n",
      "In Mexico this movie was aired only in PayTV . Dietrich Bonhoeffer's life, is a true example about a good German and specially, about a good man . The conversations between Tukur's character and the Nazi prosecutor are specially interesting . A true ideas' war: two different Germans, both with faith in \u001b[34mthere\u001b[0m \u001b[34mbelieves\u001b[0m \u001b[34m.\u001b[0m \u001b[34mBonhoeffer\u001b[0m \u001b[34mwas\u001b[0m \u001b[34ma\u001b[0m very complex person: man, freedom fighter, boyfriend, churchman and a great intellectual; Ulrich Tukur is outstanding as Bonhoeffer . I recommended this film a lot, specially in this difficult times for the \u001b[34mplanet\u001b[0m \u001b[34m.\u001b[0m \u001b[34mIn\u001b[0m Mexico we don't know a lot about Pastor Bonhoeffer life and legacy, this is a great work for \u001b[34mrescue\u001b[0m \u001b[34ma\u001b[0m \u001b[34mforgotten\u001b[0m \u001b[34mhero\u001b[0m \u001b[34m.\u001b[0m\n",
      "****************************************************************************************************\n",
      "doc_id:12715\n",
      "\u001b[34mif\u001b[0m \u001b[34myou\u001b[0m \u001b[34mlike\u001b[0m gangster type of movies, then this is the first one you should buy or at least rent, Al Pacino his performance is top notch . and the story is classic!! \u001b[34m10\u001b[0m \u001b[34m/\u001b[0m \u001b[34m10\u001b[0m \u001b[34m!\u001b[0m! \u001b[34m!\u001b[0m \u001b[34m!\u001b[0m \u001b[34mWhy\u001b[0m \u001b[34mis\u001b[0m \u001b[34mn't\u001b[0m \u001b[34mthis\u001b[0m \u001b[34mmovie\u001b[0m in the TOP 250 list??\n",
      "****************************************************************************************************\n",
      "doc_id:19972\n",
      "I consider myself a great admirer of \u001b[34mDavid\u001b[0m \u001b[34mLynch\u001b[0m \u001b[34m's\u001b[0m works, for he provides the viewers with absolutely unique motion pictures with typical \"\u001b[34mLynch-elements\u001b[0m \u001b[34m.\u001b[0m \u001b[34m\"\u001b[0m Having seen most of his works, I naively thought I could predict Lynch's next step . I was dead wrong . Dumbland is something I could \u001b[34mhave\u001b[0m \u001b[34mnever\u001b[0m \u001b[34mimagined\u001b[0m \u001b[34munder\u001b[0m the name of David Lynch . Still, after my recovery from the first shock, I started to contemplate about this \u001b[34mextremely\u001b[0m \u001b[34mprimitive\u001b[0m main character, and I drew the conclusion that all the absurdities, cruelty, brutality and disgust \u001b[34mpresented\u001b[0m \u001b[34mhere\u001b[0m \u001b[34mare\u001b[0m mirroring bits from reality, being emphasized by distorting it . There are things in our lives we hardly ever emphasize, for they are either disgusting or horrible, however, they are surrounding us, so I take the courage to say, Dumbland focuses on these bits and pieces . This is not a movie to enjoy, though you'll sometimes laugh \u001b[34mout\u001b[0m \u001b[34mof\u001b[0m \u001b[34ma\u001b[0m \u001b[34mstrange\u001b[0m \u001b[34m,\u001b[0m \u001b[34mperverted\u001b[0m sense of humor, this is an animated reflection of all things we rather reject to observe, with its simplicity, morbidity and \u001b[34mabsurdity\u001b[0m \u001b[34m.\u001b[0m \u001b[34mTake\u001b[0m it as it is, you don't have to like it . \u001b[34mIt\u001b[0m \u001b[34mjust\u001b[0m \u001b[34mexists\u001b[0m . And finally, if you're attentive enough, you'll find elements typical to Lynch as well . I recommend it for tolerant people!!!\n",
      "****************************************************************************************************\n",
      "doc_id:15507\n",
      "Here is the explanation \u001b[34mscreenwriter\u001b[0m \u001b[34mPamela\u001b[0m \u001b[34mKatz\u001b[0m \u001b[34mgave\u001b[0m me for why MvT introduced JG as a specific character in the film \u001b[34m:\u001b[0m \u001b[34m\"\u001b[0m \u001b[34m...\u001b[0m the historical record is very clear: Joseph Goebbels was directly responsible for the release of the Rosenstrasse prisoners, so we needed a way to get Goebbels himself into our film...For a woman like Lena, a woman from an aristocratic family with connections, it wasn't unthinkable that she would make an attempt to go to the top . The idea of getting to Goebbels wasn't impossible for her, so that became our \u001b[34mhook\u001b[0m \u001b[34m.\u001b[0m \u001b[34m\"\u001b[0m \u001b[34mThose\u001b[0m \u001b[34mof\u001b[0m you who \u001b[34minsist\u001b[0m \u001b[34mon\u001b[0m \u001b[34mseeing\u001b[0m \u001b[34man\u001b[0m \u001b[34mactual\u001b[0m \u001b[34msex\u001b[0m act here can read my new thread below & then fire away . Jan Lisa Huttner FILMS FOR TWO\n",
      "****************************************************************************************************\n",
      "doc_id:18814\n",
      "When I started watching the show I said \"Oh, no! It's as corny as Elfen \u001b[34mLied\u001b[0m \u001b[34mand\u001b[0m \u001b[34mnot\u001b[0m \u001b[34meven\u001b[0m \u001b[34mthat\u001b[0m \u001b[34mbloody\u001b[0m!\". And indeed, the setup is almost identical, with the single young boy living in a big house all by himself, then suddenly getting involved into a fantastic adventure while sexy young girls come live with him . But this is where the resemblance stops \u001b[34m.\u001b[0m \u001b[34mThe\u001b[0m love story is almost as subtle and intense as the one in Inuiyasha, while the childish remarks and behaviors are very \u001b[34mfew\u001b[0m \u001b[34m.\u001b[0m \u001b[34mThe\u001b[0m magical setup is \u001b[34ma\u001b[0m \u001b[34mbit\u001b[0m \u001b[34mcorny\u001b[0m \u001b[34m,\u001b[0m \u001b[34mbecause\u001b[0m it's about seven people, with seven servants, fighting for the Holy Grail, all servants being someone famous, half of all masters being from the same school, rules of engagement, etc . However, \u001b[34mthis\u001b[0m \u001b[34msoon\u001b[0m \u001b[34mdims\u001b[0m \u001b[34mand\u001b[0m \u001b[34mfades\u001b[0m from the beauty of the drawing and of the script . I actually watched all 24 episodes in one day and, without comparing it with animes that I liked more, but were from other genres, I have to say that I was very pleased.\n",
      "****************************************************************************************************\n",
      "doc_id:21281\n",
      "Stephen King movies are a funny thing with me . I either really love them or I loathe them . Some of the fancier productions (such as Desperation and Storm of the Century) I didn't enjoy . Some of the smaller ones, I really loved . Sleepwalkers is one that I really do enjoy and watch it regularly . The story revolves around Charles Brady and his mother Mary . They are Sleepwalkers, shape shifting creatures who although human like in appearance shift into a feline like creature . They are immune to the scratch of cats and whenever they move to a new town, lay out traps to catch and kill the animals . When they move to their latest town, they need to seek out a virgin and when Charles finds one, he actually falls for her, but his mother needs to feed from her to keep up her strength . The story revolves around what will happen with the girl . Will Charles spare her or use her to save his mother . \u001b[34mAlthough\u001b[0m \u001b[34mthis\u001b[0m \u001b[34mstory\u001b[0m has overtones of incest which some may find unappealing it does actually play a part in the story and is therefore not just plonked in the movie for scandal's sake . Like most Stephen King stories it's based in a small town with lots of interesting characters . The acting isn't the best, nor are the special effects, however, somehow, the whole thing tends to 'gel' \u001b[34mand\u001b[0m \u001b[34mis\u001b[0m very watchable and enjoyable adaption . For UK readers: This production has most recently been shown on BBC1, Sci-Fi and Sky Thriller/Horror channels.\n",
      "****************************************************************************************************\n",
      "doc_id:19043\n",
      "Alex Winter and \u001b[34mKeanu\u001b[0m \u001b[34mReeves\u001b[0m \u001b[34mreturn\u001b[0m \u001b[34mas\u001b[0m the two dopes from San Dimas who get sent on another trip of a lifetime as someone from the future feels exactly the opposite the way it was presented in the first movie . The only difference is that their trip is \"somewhere\" between Heaven and Hell and \u001b[34mends\u001b[0m \u001b[34mup\u001b[0m \u001b[34mbeing\u001b[0m both . When they meet the Grim Reaper, they get the chance of an after-lifetime to play him for a chance to return and stop two evil robots \u001b[34mfrom\u001b[0m \u001b[34mruining\u001b[0m what future they were supposed to have . Besides playing roles they have...er...perfected, they also play (\u001b[34mand\u001b[0m \u001b[34mrevive\u001b[0m \u001b[34ma\u001b[0m couple of extra sales in the \u001b[34mprocess\u001b[0m \u001b[34m)\u001b[0m some classic games (I even have \u001b[34mmy\u001b[0m original copy of Battleship in the closet). The reason I liked this movie better than the original is because it deals with \"what it might be \u001b[34mlike\u001b[0m \u001b[34m\"\u001b[0m \u001b[34minstead\u001b[0m of \"what was .\" Without spoiling the movie, I can't give you anymore information about this (I guess you \u001b[34m'll\u001b[0m \u001b[34mjust\u001b[0m \u001b[34mhave\u001b[0m to watch them both and decide for yourself! 8 out of 10 stars.\n",
      "****************************************************************************************************\n",
      "doc_id:14531\n",
      "This is one a most famous movies of the French sexual empowerment of the \u001b[34mseventies\u001b[0m \u001b[34m,\u001b[0m starring Gerard Depardieu and Patrick Dewaere in extremely sarcastic roles . It is also one of the many dark psychological dramas of the seventies/eighties, such as \"Serie Noire\", \"Buffet Froid\", \"Beau Pere\", all realized by Blier . However \u001b[34m,\u001b[0m \u001b[34mI\u001b[0m \u001b[34mwould\u001b[0m \u001b[34mlike\u001b[0m \u001b[34mto\u001b[0m \u001b[34mcorrect\u001b[0m \u001b[34mthe\u001b[0m \u001b[34mprevious\u001b[0m \u001b[34mcomment\u001b[0m that was posted on the movie: the translated title in English is very \u001b[34mfar\u001b[0m \u001b[34mfrom\u001b[0m \u001b[34mthe\u001b[0m French version . It is true that both protagonists are \"going places\", but the title in French could be literally translated by \"the waltz dancers\", which is a metaphor for the movement of the testicles ...\n",
      "****************************************************************************************************\n",
      "doc_id:18306\n",
      "As a person who sought out an existence as a 'professional' person with income backed by a BS in Chemistry and MS in Business Management, my sanity \u001b[34mwas\u001b[0m \u001b[34malways\u001b[0m \u001b[34mspasmodically\u001b[0m \u001b[34msustained\u001b[0m \u001b[34min\u001b[0m outside indulgences in things more artistic . \u001b[34mMy\u001b[0m \u001b[34mpost-post\u001b[0m \u001b[34mgraduate\u001b[0m classes were always emotionally and spiritually supported by an interest in photography, stained-glass, ceramics, metal \u001b[34mforging/welding\u001b[0m \u001b[34m,\u001b[0m \u001b[34mand\u001b[0m art drawing that also included silk screening . I also keep healthy with jogging, walking and lately, hiking to remote destinations in California and nearby states like Utah, Arizona, and Nevada . Jogging, walking and hiking gets one close to the earth with time to stop and watch and listen and also photograph or record sounds . Within that background, I was obsessed with RIVERS AND TIDES . I was equally impressed with the documentary content of artist Andy \u001b[34mGoldsworthy\u001b[0m \u001b[34mas\u001b[0m \u001b[34mwell\u001b[0m as the skills and smoothness \u001b[34mof\u001b[0m \u001b[34mDirector/Cinematographer\u001b[0m \u001b[34mThomas\u001b[0m Riedelsheimer . I actually could not separate the art of Goldsworthy with camera path of Riedelsheimer . Wonderful . Wonderful . Wonderful.\n",
      "****************************************************************************************************\n",
      "doc_id:20125\n",
      "You spend most of this two-hour film wondering \"what's the story regarding the lead character?\" Will Smith, as a low-key \"Ben Thomas\" will keep you guessing . The last 20-25 minutes is when you find out, and it's a shocker .... but you knew something dramatic was going to be revealed . Until then, Smith, plays it mysterious, almost stalking people . You know he has a good reason for doing it, but \u001b[34mit\u001b[0m \u001b[34m's\u001b[0m \u001b[34mnever\u001b[0m \u001b[34mreally\u001b[0m \u001b[34mexplained\u001b[0m \u001b[34m,\u001b[0m \u001b[34monce\u001b[0m again, to keep us guessing until the end . All of it, including a on again/off again but touching romance with Rosario Dawkins (\"Emily Posa\") might make some viewers frustrated or wanting to quit this film ..... but don't because the final long segment puts all the pieces of this puzzle together . This is a two-hour \u001b[34mfilm\u001b[0m \u001b[34mand\u001b[0m \u001b[34mnot\u001b[0m \u001b[34mthe\u001b[0m \u001b[34mtypical\u001b[0m action-packed macho Will Smith film . In fact, the most shocking aspect might be seeing the drawn, sad face of Smith throughout this story . It \u001b[34malmost\u001b[0m \u001b[34mdoes\u001b[0m \u001b[34mn't\u001b[0m \u001b[34meven\u001b[0m look like him in a number of shots . He looks like he's lost weight and is sick . Smith does a great job portraying a man carrying around a lot of sadness . Like a good movie will often do, this film will leave you thinking long after the \u001b[34mending\u001b[0m \u001b[34mcredits\u001b[0m \u001b[34m.\u001b[0m\n",
      "****************************************************************************************************\n",
      "doc_id:21876\n",
      "\"How To Lose Friends & Alienate People\" is not based on Tiger Woods' infidelities . \u001b[34mIt\u001b[0m \u001b[34mis\u001b[0m \u001b[34ma\u001b[0m \u001b[34mmediocre\u001b[0m \u001b[34mromantic\u001b[0m \u001b[34mcomedy\u001b[0m based on Toby Young's book on his experiences working as a journalist covering celebrities . The film stars Simon Pegg as Sidney Young, a zany British journalist who takes a job in an illustrious celebrity magazine in New York . Young is restless in getting caught up all type of shenanigans to alienate all around him, hence movie title . He is uproarious, daring, and moronic . But nevertheless for some very bizarre reason, he is a somewhat likable character . Sidney befriends a fellow journalist, the composed Alison Olsen, played quite admirably by Kirsten Dunst . However, Sidney is primarily longing for the sexpot actress Sophie Maes played by the Fantastic Ms. Megan Fox . This foxtrot is \u001b[34mshort\u001b[0m \u001b[34mon\u001b[0m \u001b[34macting\u001b[0m \u001b[34mproficiency\u001b[0m but high on \"eye candy\" material . Sidney gets in all kinds of tomfoolery in order to move up the journalist ladder in the magazine co. Those are the peak comedic moments of the film . However, I think that Director Robert Weide and Screenwriter Peter Straughan might lose some viewers and alienated authentic rom-com material by developing \u001b[34man\u001b[0m \u001b[34mimplausible\u001b[0m \u001b[34mromantic\u001b[0m plot line between Sidney & Alison; even though Team Weidstraughan did formulate an entertaining narrative otherwise . Pegg did peg his character down to the wire with his hilarious performance as Sidney Young . Jeff Bridges was again building \"The Dude\" bridges with his enigmatic supporting work as Clayton Harding, the magazine's suave prez . But the rest of the film's acting was not worthy enough to feature here . \"How To Lose Friends & Alienate People\" should not be alienated entirely, but you might lose some movie friends if you publicize it as a superlative romantic comedy . * * * Average\n",
      "****************************************************************************************************\n",
      "doc_id:20487\n",
      "I just saw this last night, it was broadcast on the Canadian Broadcasting Corporation's 'Passionate Eye' series . It has been screened recently (Sept. 2003) at \u001b[34mthe\u001b[0m \u001b[34mToronto\u001b[0m International Film Festival as well as many others . It is a quite remarkable film . The filmmakers literally stumbled into the story, being there to make a documentary about Chavez himself . Instead, they found themselves squarely in the middle of events as the coup \u001b[34munfolded\u001b[0m \u001b[34m.\u001b[0m \u001b[34mThey\u001b[0m had unprecedented access to events and people \u001b[34mand\u001b[0m \u001b[34m,\u001b[0m \u001b[34mfor\u001b[0m \u001b[34mthe\u001b[0m \u001b[34mmost\u001b[0m \u001b[34mpart\u001b[0m \u001b[34m,\u001b[0m \u001b[34mlet\u001b[0m the story unfold as it happens . They, of course, have their own ideological perspective (which they make evident) but they keep themselves in the background and instead try to focus attention on the events, the people, and the background and history leading up to the coup . As a film, \u001b[34mit\u001b[0m \u001b[34mis\u001b[0m \u001b[34mnot\u001b[0m \u001b[34mground-breaking\u001b[0m \u001b[34min\u001b[0m a stylistic or aesthetic sense, and that is, I think, the way it should \u001b[34mbe\u001b[0m \u001b[34m.\u001b[0m \u001b[34mWhat\u001b[0m we get to see what 'embedded' journalism should really be . What we get to see is a remarkable account of a country struggling to attain democracy...a charismatic leader (Chavez) who actually cares for his people...a story about power and \u001b[34mgreed\u001b[0m \u001b[34mas\u001b[0m \u001b[34ma\u001b[0m coalition of corporate/military/media interests combine to lead a coup of a democratically elected leader...and unprecedented access to a historical event as \u001b[34mit\u001b[0m \u001b[34munfolds\u001b[0m \u001b[34m.\u001b[0m\n",
      "****************************************************************************************************\n",
      "doc_id:12972\n",
      "So you think a talking parrot \u001b[34mis\u001b[0m \u001b[34mnot\u001b[0m \u001b[34myour\u001b[0m \u001b[34mcup\u001b[0m \u001b[34mof\u001b[0m \u001b[34mtea\u001b[0m huh? Well, \u001b[34mthink\u001b[0m \u001b[34magain\u001b[0m \u001b[34m.\u001b[0m Paulie is a wonderful film filled with touching moments.The characters are all lovable especially Paulie as he enters the lives of many people on \u001b[34mhis\u001b[0m \u001b[34mjourney.It\u001b[0m \u001b[34mis\u001b[0m \u001b[34mjourney\u001b[0m worth experiencing . Don't miss it! It is available on home \u001b[34mvideo\u001b[0m.\n",
      "****************************************************************************************************\n",
      "doc_id:18800\n",
      "This oddity from Roman Polanski clearly shows where his preoccupations lay at the time he made it . Polanski himself plays a timid man who rents a Parisian apartment where the previous tenant committed suicide . He becomes obsessed with discovering what led her to it, to the point that he's dressing in drag and reenacting events the way they might have unfolded . The movie's unsettling to a point, and it has that atmosphere of creepy dread that Polanski excels at, \u001b[34mbut\u001b[0m \u001b[34mit\u001b[0m \u001b[34mcomes\u001b[0m \u001b[34moff\u001b[0m \u001b[34mtoo\u001b[0m \u001b[34mmuch\u001b[0m \u001b[34mas\u001b[0m \u001b[34ma\u001b[0m \u001b[34mrehash\u001b[0m \u001b[34mof\u001b[0m \u001b[34m\"\u001b[0m Rosemary's Baby\" and \"Repulsion,\" two other better Polanski films that deal with the eerie goings on in moody apartments . But as for the preoccupation .... unless I'm reading too much into the film, I have to believe that this was Polanksi's reaction to the feelings of persecution he felt at being labeled a sexual pervert and exiled from America . Not making a judgement about him one way or the other myself, but it's hard to deny the evidence of that in the movie itself . Grade: B+\n",
      "****************************************************************************************************\n",
      "doc_id:17981\n",
      "In the rapid economic development of 1990's in China, there is a resurgence of traditional Chinese culture, partially due to the rise of nationalism accompanied by the increase in wealth, and more importantly, due to the sense of spiritual belonging after the collapse of the old socialist ideology in \u001b[34mthe\u001b[0m \u001b[34mpost\u001b[0m \u001b[34mCultural-Revolutionary\u001b[0m era . \u001b[34mHowever\u001b[0m \u001b[34m,\u001b[0m \u001b[34mthe\u001b[0m resurgence of Chinese traditional culture, namely, the Confucianism, was not without disasters, because Chinese are adopted the entire tradition without eliminating the bad part, and the discrimination against girls demonstrated in this film is an excellent example . Moreover, not only the part that should be discarded were inherited, the good part that was supposed to be inherited, such as the traditional opera, and its technique, such as changing \u001b[34mface\u001b[0m \u001b[34m,\u001b[0m \u001b[34mwas\u001b[0m \u001b[34mignored\u001b[0m \u001b[34min\u001b[0m \u001b[34mthe\u001b[0m resurgence, and facing extinction . The director used this film to criticize the \u001b[34mproblem\u001b[0m \u001b[34mof\u001b[0m \u001b[34mre-embracing\u001b[0m \u001b[34mtradition\u001b[0m \u001b[34mby\u001b[0m contemporary China and this is the deeper meaning behind the movie.\n",
      "****************************************************************************************************\n",
      "doc_id:19343\n",
      "This movie didn't really surprise me, as such, it just got better and better . I thought: \"Paul Rieser wrote this, huh? Well...we'll see how he does ...\" Then I saw Peter Falk was in it . I appreciate Colombo . Even though I was \u001b[34mnever\u001b[0m \u001b[34ma\u001b[0m big fan of the show, I've always liked watching Peter Falk . The performances of Peter and Paul were so natural that I felt \u001b[34mlike\u001b[0m \u001b[34ma\u001b[0m \u001b[34mfly\u001b[0m on \u001b[34mthe\u001b[0m \u001b[34mwall\u001b[0m \u001b[34m.\u001b[0m \u001b[34mThey\u001b[0m \u001b[34mplayed\u001b[0m \u001b[34moff\u001b[0m of each other so well that I practically felt giddy with enjoyment!...And I \u001b[34mhad\u001b[0m \u001b[34mn't\u001b[0m \u001b[34meven\u001b[0m \u001b[34mbeen\u001b[0m drinking! This movie was so well done that I wanted to get right on the phone to Paul and let him know how much I enjoyed it! but I couldn't find his number . Must be unlisted or something . This was one of those movies that \u001b[34mI\u001b[0m \u001b[34mhad\u001b[0m \u001b[34mno\u001b[0m \u001b[34midea\u001b[0m \u001b[34mwhat\u001b[0m it was going to be about or who was in it or anything . It just came on and I thought:\" Eh, why not? Let's see . If I don't like it - I don't have to watch it ...\"... and I ended up just loving it!\n",
      "****************************************************************************************************\n",
      "doc_id:14122\n",
      "I drove from Sacramento to San Francisco (\u001b[34mand\u001b[0m \u001b[34mback\u001b[0m \u001b[34m)\u001b[0m \u001b[34mto\u001b[0m see \u001b[34mthis\u001b[0m movie premiere--and really glad I \u001b[34mdid\u001b[0m \u001b[34m.\u001b[0m \u001b[34mAs\u001b[0m a big movie fan and a life-long Northern Californian, I was surprised how many Oscar-winning films have been made in the Bay Area . As a fashion designer who really wants to stay in the Bay \u001b[34mArea\u001b[0m \u001b[34mas\u001b[0m \u001b[34mopposed\u001b[0m \u001b[34mto\u001b[0m \u001b[34mgoing\u001b[0m to LA, George Lucas' comments about persistence, \u001b[34mcommunity\u001b[0m \u001b[34mand\u001b[0m \u001b[34mhaving\u001b[0m a vision really resonated with me . Hey, if he and all the other filmmakers can make \u001b[34mit\u001b[0m \u001b[34min\u001b[0m \u001b[34mSF\u001b[0m, so can other artists . Would recommend this film\n",
      "****************************************************************************************************\n",
      "doc_id:19781\n",
      "I viewed the movie together with a homophobic friend, my wife and her female friend . \u001b[34mSo\u001b[0m \u001b[34mI\u001b[0m \u001b[34mhad\u001b[0m views from all kinds of directions . \u001b[34mMainly\u001b[0m \u001b[34m,\u001b[0m \u001b[34mthe\u001b[0m film made me laugh, the sexual tension was not really there and the only noticeable actors were Tudor Chirila and \u001b[34mMaria\u001b[0m \u001b[34mPopistasu\u001b[0m \u001b[34m.\u001b[0m Yes, I do think she played her role \u001b[34mwell\u001b[0m \u001b[34m,\u001b[0m \u001b[34meven\u001b[0m \u001b[34mif\u001b[0m \u001b[34mthe\u001b[0m script was not appropriate . There were good Romanian actors around, they just didn't have complex roles . \u001b[34mI\u001b[0m \u001b[34mapplaud\u001b[0m \u001b[34mPuya\u001b[0m's entering the movie \u001b[34mbusiness\u001b[0m \u001b[34m.\u001b[0m \u001b[34mI\u001b[0m don't know why, but I think he's a good guy, I just hope he'll be a good actor . The wife loved the movie, though, and I think there might have been chords being played and to which I had no ear for . If the film tried to present uncommon sexual behaviors and their consequences in todays Romania, then it failed miserably . There were no consequences . Just imagine that the girls are actually a boy and a girl, and the same story becomes just a boring, uninteresting plot . I have no idea why it got all those BAFTA awards . In my book, it should have gotten the \"Better luck next time\" award . (bafta=good luck in Romanian).\n",
      "****************************************************************************************************\n",
      "doc_id:21206\n",
      "Tigerland follows the lives of a group of recently drafted men into the army who are called up to fight in Vietnam in 1971 . At this point, America knows they are fighting a loosing battle, and the director takes us through a 16mm handheld documentary shot film of the lives of several recruits in the 'Tigerland' training camp in Louisiana . The film is more of a character study no real plot, but it focuses on a key character Roland Boz, who is a dissabordinate yet intelligent man, who only wants to escape the camp . We are taken through several characters in the unit waiting for the story to unfold . I'd have to say this is a great story about Vietnam and more importantly about the army in general .. Great acting \u001b[34m,\u001b[0m and very memorable . Also the directors \u001b[34muse\u001b[0m of film and style works so well, cause it looks a lot like the old film footage you always see regarding Vietnam \u001b[34m.\u001b[0m Its great to see how the film shows that all the infighting and problems were so significant to the problems of fighting this battle . The particular scene where Boz walks away from a training mission where an instructor is showing how to use a radio as a \u001b[34mtorture\u001b[0m \u001b[34mdevice\u001b[0m \u001b[34mjust\u001b[0m about \u001b[34msums\u001b[0m \u001b[34mup\u001b[0m \u001b[34meverything\u001b[0m about war in a nutshell...and it's \u001b[34mfutility\u001b[0m \u001b[34m.\u001b[0m Fantastic film . Not just about Nam but about who individuals have to decide what is morally right by being 'in the army' . Rating 9 out of 10.\n",
      "****************************************************************************************************\n",
      "doc_id:1215\n",
      "this became a cult \u001b[34mmovie\u001b[0m \u001b[34min\u001b[0m \u001b[34mchinese\u001b[0m \u001b[34mcollege\u001b[0m \u001b[34mstudents\u001b[0m, though i havnt watched it until it \u001b[34mis\u001b[0m \u001b[34mbroadcasted\u001b[0m \u001b[34min\u001b[0m \u001b[34mchannel4\u001b[0m, UK . full of arty giddy pretentions, the plot is mediocre and unreal; the 'spirit' it wants to convey is \u001b[34mhow\u001b[0m \u001b[34mindependent\u001b[0m \u001b[34martists\u001b[0m \u001b[34m'resist\u001b[0m \u001b[34mthe\u001b[0m \u001b[34mcommercisliation\u001b[0m \u001b[34mof\u001b[0m music \u001b[34mindustry\u001b[0m \u001b[34m'\u001b[0m \u001b[34mand\u001b[0m \u001b[34mmaintain\u001b[0m their' purity of an artistic soul' and wouldnt 'sell themselves for dirty money' . that is really giddy and superficial; the diologue are mainly pathetic . acting is poor . sceenplay is full of art pretention . it is a fantasy movie for kids and that; s all\n",
      "****************************************************************************************************\n",
      "doc_id:7474\n"
     ]
    },
    {
     "name": "stdout",
     "output_type": "stream",
     "text": [
      "This move was \u001b[34mon\u001b[0m \u001b[34mTV\u001b[0m \u001b[34mlast\u001b[0m \u001b[34mnight\u001b[0m . I \u001b[34mguess\u001b[0m as a time filler, because it sucked bad! The movie is just an excuse to show some tits and ass at the start and somewhere about half way . \u001b[34m(\u001b[0m Not bad tits and ass though) \u001b[34m.\u001b[0m \u001b[34mBut\u001b[0m the story is too ridiculous for words . The \"wolf\", if that is what you can call it, is hardly shown fully save his teeth . When it is fully in view, you can clearly see they had some interns working on the CGI, because the wolf runs like he's running in a treadmill, and the CGI fur looks like it's been waxed, all shiny:) The \u001b[34mmovie\u001b[0m \u001b[34mis\u001b[0m full of gore and blood, and you can easily spot who is going to get killed/slashed/eaten next . Even if you like these kind of splatter movies you will be disappointed, they didn't do a good job at it . Don't even get me started on the actors...Very corny lines and the girls scream at everything about every 5 seconds . \u001b[34mBut\u001b[0m then again, if someone asked me to do bad acting just to give me a few bucks, then hey, where do I sign up? Overall boring and laughable horror.\n",
      "****************************************************************************************************\n",
      "doc_id:4814\n",
      "Well . this was not a surprise . many people will tell you this is gory . but they are all talking \"shiztz\" this film is very slow . \u001b[34mIt\u001b[0m \u001b[34mstarts\u001b[0m \u001b[34moff\u001b[0m \u001b[34mwith\u001b[0m \u001b[34msome\u001b[0m \u001b[34mguy\u001b[0m \u001b[34mwho\u001b[0m \u001b[34mmakes\u001b[0m \u001b[34ma\u001b[0m concoction to feel no pain he calls it \"my son\" there is some gory scenes but i found them kind of weak . you might as well skip 40 minutes of the movie and get to the eyeball scene which was surprisingly impressive and sickening . there \u001b[34mis\u001b[0m \u001b[34msome\u001b[0m \u001b[34mreally\u001b[0m stupid scenes in this . and they dub over the hits and slaps with stupid fake slapping sound which makes me laugh! i would not recommend it . keep looking gore hounds . check \u001b[34mthis\u001b[0m \u001b[34mout\u001b[0m \u001b[34mif\u001b[0m \u001b[34myou\u001b[0m want the like 20-10 minute ending scene which still is not that amazing and has a random scene of the guy trying to like rape his mum .. \u001b[34myeah\u001b[0m its weird.\n",
      "****************************************************************************************************\n",
      "doc_id:3230\n",
      "Who in their right mind does anything so stupid as this movie? Accidental killing of a security guard...characters that are so two dimensional that a two year old could have painted drawn them...and better...A red toolbox of death? Please .... Hypothermic weak thugs...Acting from hell...Stylistically this movie shifts between teen comedy, thriller, \u001b[34mvoyeurism\u001b[0m \u001b[34mand\u001b[0m \u001b[34m...\u001b[0m female...(uhm) Rambo? Unbelievable and it's an insult to any thinking person . Do not watch, walk away it's more horrible than you may imagine...And on top of it all it's trying to be hip by being overly graphic in \u001b[34mit\u001b[0m \u001b[34m's\u001b[0m \u001b[34mviolence\u001b[0m \u001b[34m...\u001b[0m \u001b[34mMrs\u001b[0m \u001b[34mMontford\u001b[0m \u001b[34m:\u001b[0m \u001b[34mShoot\u001b[0m \u001b[34m'Em\u001b[0m Up was fun and funny, this is just pathetic and terrible . Good luck next time .: - (\n",
      "****************************************************************************************************\n",
      "doc_id:4444\n",
      "I mean the word \"pedestrian\". Seems the producers of the film forgot to have anything interesting happen . Faith Domergue can do better than this . She is supposed to be the mysterious, vengeful Cobra goddess torn by \u001b[34mlove\u001b[0m \u001b[34mfor\u001b[0m \u001b[34mMarshall\u001b[0m \u001b[34mThompson\u001b[0m (there's an idea, eh?). Instead she's a common would-be \u001b[34mhousewife\u001b[0m \u001b[34mof\u001b[0m \u001b[34mthe\u001b[0m \u001b[34mfifties\u001b[0m, and the single, flat \u001b[34mexpression\u001b[0m \u001b[34mshe\u001b[0m \u001b[34mwears\u001b[0m \u001b[34mthroughout\u001b[0m \u001b[34mthe\u001b[0m film makes me think they shot it all in the early morning before Faith had her coffee . As for \u001b[34mthe\u001b[0m \u001b[34mrest\u001b[0m \u001b[34mof\u001b[0m the cast, they are all so earnestly \"all-American\" that the result is laughable . This is ground more productively covered in Val Lewton in \"The Cat People\". I think \"Cult of the Cobra\" should really be titled \"Cult of the Contractual Obligation\". Why else would so many otherwise talented people sleepwalk their way though a slow-moving, predictable, derivative failure like this?\n",
      "****************************************************************************************************\n",
      "doc_id:3715\n",
      "this movie had a fairly good sounding plot, but the paste was very slow...very slow indeed . \u001b[34meven\u001b[0m \u001b[34mif\u001b[0m someone thinks this is a cult classic, i think that there are a lot better films from that era to be watched . the cinematography is not excellent, \u001b[34mbut\u001b[0m \u001b[34mnot\u001b[0m the worst either . the sounds are OK. lighting OK. i still wouldn't recommend this to anyone else than maybe a film-student . the movie does not contain music, and the horses having sex don't make it a good one either . and the woman masturbating on the edge of the bed was plain stupid . no winnings here, skip this utter boredom . i've seen worse believe me, but this is just waste of time, and i don't get the good reviews here . especially the \u001b[34mhigh\u001b[0m \u001b[34mratings\u001b[0m \u001b[34m...\u001b[0m\n",
      "****************************************************************************************************\n",
      "doc_id:8731\n",
      "I normally have no problem \u001b[34mwalking\u001b[0m \u001b[34maway\u001b[0m from a bad \u001b[34mmovie\u001b[0m, \u001b[34mhowever\u001b[0m \u001b[34mthis\u001b[0m \u001b[34mwas\u001b[0m an unique case . This movie was so bad that I actually sat through the whole thing almost praying it would have one minute of good movie time to justify the hour and a half that was wasted . Needless to say I was brutally disappointed . Set at a beach house where a group of college friends are celebrating vacation, this movie suffers from numerous problems making it not worth seeing \u001b[34m.\u001b[0m \u001b[34mFirst\u001b[0m, there are gaping plot holes . Second, very few of the C-list (i don't even dare call them B) actors can act worth a damn, so any scenes that have potential fail miserably . Third, the rate of the film is very choppy and awkward to watch most of the time making suspense building very difficult, leading to very few surprises for the audience . Fourth and most importantly, the ending is completely anti-climatic partially \u001b[34mbecause\u001b[0m of how it ends (setting/who the killer turns out to be) and partially because the dialog is just atrocious . To the films credit, it is the only movie that I will ever say is the worst movie I have ever scene, and i've seen a \u001b[34mlot\u001b[0m . So, just like a bad joke you would have been all the happier never hearing, the next time someone asks you if you want to know a secret you will be yelling no, you really don't as you run in the \u001b[34mopposite\u001b[0m \u001b[34mdirection\u001b[0m \u001b[34m.\u001b[0m\n",
      "****************************************************************************************************\n",
      "doc_id:2933\n",
      "Okay, first off, Seagal's voice is dubbed over for like 50% of the film...\u001b[34mWhy\u001b[0m \u001b[34m?\u001b[0m \u001b[34mBecause\u001b[0m \u001b[34mapparently\u001b[0m \u001b[34mthere\u001b[0m were rewriting the script and story as they were shooting and they \u001b[34mneed\u001b[0m \u001b[34mto\u001b[0m \u001b[34mchange\u001b[0m his dialogue for story continuity as they have \u001b[34mmultiple\u001b[0m \u001b[34mversions\u001b[0m . From the very beginning, you just scratch your head because the overdubs are not only distracting, but they make no sense . That \u001b[34msaid\u001b[0m \u001b[34m,\u001b[0m \u001b[34mthe\u001b[0m story still sucked and does \u001b[34mn't\u001b[0m \u001b[34mmake\u001b[0m \u001b[34many\u001b[0m sense at all . When I got the the end, I was just scratching my head cause the movie was so pointless and the ending didn't even make sense . Avoid like the plague . This movie made me stop watching Seagal straight to video movies cause they just get worse and worse.\n",
      "****************************************************************************************************\n",
      "doc_id:3539\n",
      "a movie that attempts to be far smarter than its makers are capable of producing . the movie twists and turns through miriad plot \"surprises\" at a desperate attempt to kep the audience guessing, offcourse puncturing the \"plot\" with steamy scenes they thought would help it along . james belushi is involved in this pseudo-intellectual attempt and just sleep walks through the movie . the same applies for the other \"actors\". the plot is quite silly and tacky . whih in itelf is not such a crime, but \u001b[34mtowards\u001b[0m \u001b[34mthe\u001b[0m \u001b[34mend\u001b[0m, the tremendous plot-twists get very tiresome and boring . however, the movie does manage to generate some interest in the middle . in all \u001b[34mworth\u001b[0m \u001b[34ma\u001b[0m lazy watch on a really boring day, but do \u001b[34mn't\u001b[0m \u001b[34mfret\u001b[0m \u001b[34mif\u001b[0m you miss this one . a rather lame 4!\n",
      "****************************************************************************************************\n",
      "doc_id:5673\n",
      "ba ba ba boring ...... this is next to battlefield earth in \u001b[34mscience\u001b[0m \u001b[34mfiction\u001b[0m \u001b[34mslumberness\u001b[0m \u001b[34m.\u001b[0m \u001b[34mgenie\u001b[0m \u001b[34mfrancis\u001b[0m (aka general hospital's laura) has a \u001b[34msmall\u001b[0m \u001b[34mrole\u001b[0m \u001b[34mas\u001b[0m a \u001b[34mreporter\u001b[0m \u001b[34mand\u001b[0m that in itself should tell you that this movie must be bad .... there is ben kingsley (an academy award winning actor) in this stinker and a few others decent actors . You have to wonder what possessed them to decide to do this awful movie . The music dramatically goes up and down like it's a major dramatic story . Even if you pay attention the plot is impossible to follow . The effects are mediocre as well and seem really dated . All of the actors speak in a monotone voice and have no realism to their dialogue . I could go on and on on how this is a bad movie . At least with Battlefield \u001b[34mEarth\u001b[0m it's so bad it's funny but this is just b o r i n g. Avoid unless you want to be lulled to sleep.\n",
      "****************************************************************************************************\n",
      "doc_id:4481\n",
      "Possibly not, but it is awful . \u001b[34mEven\u001b[0m \u001b[34mthe\u001b[0m \u001b[34mfantastic\u001b[0m \u001b[34mcast\u001b[0m cant save it . OK, I admit it started \u001b[34moff\u001b[0m \u001b[34mquite\u001b[0m \u001b[34mfunny\u001b[0m \u001b[34mbut\u001b[0m it seemed to plummet downhill as soon as they jumped those girls in the Generals house . Bill Murray turned from being a quick witted, humorous guy into an arsehole who \u001b[34mwas\u001b[0m \u001b[34mshouting\u001b[0m \u001b[34mthings\u001b[0m \u001b[34mat\u001b[0m people in the street that just weren't funny, its like he was trying too hard to be funny . His character stole a weapon (an RV? come on ...) and ends up being a national hero after invading another country and killing god knows how many soldiers, for a laugh . One good point is that this film shows the inadequacy and incompetence of \u001b[34mthe\u001b[0m \u001b[34mUS\u001b[0m \u001b[34mArmy\u001b[0m and shows how arrogant and \u001b[34mimbecilic\u001b[0m \u001b[34mthey\u001b[0m \u001b[34mreally\u001b[0m are, albeit unintentionally . I actually felt disgusted that this kind of propaganda crap could really be released.\n",
      "****************************************************************************************************\n",
      "doc_id:8582\n",
      "A terrible movie containing a bevy of D-list Canadian actors who seem so self-conscious about the fact they are on-camera that their performances are overly melodramatic and quite forgettable . This film is badly written, badly edited, and badly directed . It is disjointed, incomprehensible and bizarre - but not in a good way . McDowell does a great job with what he is given, but is the only one in this film to do so - he really has a bad story and script to work with . It's not even camp enough to be funny . I have yet to see \u001b[34mVan\u001b[0m \u001b[34mPelleske\u001b[0m \u001b[34mact\u001b[0m in a credible manner, and \u001b[34meven\u001b[0m \u001b[34mthe\u001b[0m \u001b[34msub-characters\u001b[0m \u001b[34mlike\u001b[0m \u001b[34mEisen\u001b[0m (with his nasal, whiny voice) confirm that we are on a lot in Toronto rather than on a barge off Africa . Didn't the director see that the 'creature' looks like a jazz dancer in an alien suit? The fight between the blue bolts of lightning \u001b[34mand\u001b[0m \u001b[34mPelleske\u001b[0m \u001b[34m's\u001b[0m \u001b[34morange\u001b[0m wisps of 'magic' (!?! for lack of a better word), is obviously the result of bad actors, with no choreographer, overlaid with completely derivative special effects . Was there even a director on set or in the editing room for this disaster film (not the good kind)? Learn from the mistakes of others...don't even waste your time with this one, you'll regret it like I did . I have nothing more to say about this waste \u001b[34mof\u001b[0m \u001b[34mcelluloid\u001b[0m \u001b[34m.\u001b[0m\n",
      "****************************************************************************************************\n",
      "doc_id:4032\n",
      "\u001b[34mMy\u001b[0m \u001b[34mone\u001b[0m \u001b[34mline\u001b[0m \u001b[34msummary\u001b[0m \u001b[34mshould\u001b[0m \u001b[34mexplain\u001b[0m \u001b[34mit\u001b[0m \u001b[34mall\u001b[0m \u001b[34m,\u001b[0m \u001b[34mbut\u001b[0m \u001b[34mI\u001b[0m \u001b[34m'll\u001b[0m have a go at it . From the get-go, this movie seemed like an overdone soap opera, and that's about all I can comment on . There were a few interesting scenes, such as the \"Big one\" that hit during the middle of the movie, but, wait, what's that? The earthquake * gasp *, wait a minute! That's Dante's Peak! Well, parts of it butchered and slapped in . I can't believe how poorly this movie was done, \"borrowing\" scenes from other, much better films . One wonders what director thought that viewers are dumb enough to believe large wooded mountain-esque backdrops exist in downtown LA, ala Dante's Peak . My advise, forget the Bond Wanna-be, Nash, in this film and go for the real thing (again, someone from Dante's Peak \u001b[34mcoincidentally\u001b[0m \u001b[34m.\u001b[0m \u001b[34m)\u001b[0m\n",
      "****************************************************************************************************\n",
      "doc_id:5142\n",
      "Sorry everyone, I know this is supposed to be an \"art\" film, but wow, they should have handed out guns at the screening so people could blow their brains out and not \u001b[34mwatch\u001b[0m \u001b[34m.\u001b[0m \u001b[34mAlthough\u001b[0m the scene design and photographic direction was excellent, this story is too painful \u001b[34mto\u001b[0m \u001b[34mwatch\u001b[0m \u001b[34m.\u001b[0m \u001b[34mThe\u001b[0m \u001b[34mabsence\u001b[0m of a sound track was brutal . The loooonnnnng shots were too long . How long can you watch two people just sitting there and talking? Especially when the dialogue is two people complaining . I really had a hard time just getting through this film . The performances were excellent, but how much of that dark, sombre, uninspired, stuff can you take? The only thing i liked was Maureen Stapleton and her red dress and dancing scene . Otherwise this was a ripoff of Bergman . And i'm no fan f his either . I think \u001b[34manyone\u001b[0m \u001b[34mwho\u001b[0m \u001b[34msays\u001b[0m they enjoyed 1 1/2 hours of this is, well \u001b[34m,\u001b[0m \u001b[34mlying\u001b[0m \u001b[34m.\u001b[0m\n",
      "****************************************************************************************************\n",
      "doc_id:7315\n",
      "This show is terrible, the jokes are all terrible and just getting worse and worse . \u001b[34mI\u001b[0m \u001b[34mam\u001b[0m one of those \u001b[34mpeople\u001b[0m \u001b[34mwho\u001b[0m was never a big fan of Corner Gas but at least I liked it at first until it got into a rut around season two, all the jokes had been played out and the characters had nothing to them . Well at least Corner Gas was good at first, Little Mosque on the Prairie is typically awful bland CBC comedy that had nothing going for it \u001b[34mfrom\u001b[0m \u001b[34mepisode\u001b[0m \u001b[34m1.\u001b[0m \u001b[34mWho\u001b[0m \u001b[34mare\u001b[0m \u001b[34mthe\u001b[0m people who are watching this show anyway, I am being honest is it old people or maybe just people who actually live on the prairies? Maybe the jokes are for them and they work there? I don't know a single person who likes this show and can't stand it myself, the jokes are totally predictable and the characters are even less developed than in Corner Gas . Hopefully it \u001b[34mwo\u001b[0m \u001b[34mn't\u001b[0m \u001b[34mlast\u001b[0m much longer because all the success this show has had seems to me to be based entirely on the premise of this show being Muslim which is different and could/should have led to a \u001b[34mgreat\u001b[0m \u001b[34mshow\u001b[0m \u001b[34m.\u001b[0m\n",
      "****************************************************************************************************\n",
      "doc_id:9506\n",
      "'Say Yes' is one of those flicks that you keep hoping is going to get better, but it never does . It's the kind of 'motiveless psychopath decides to menace an innocent couple' crapfest, so beloved of straight to \u001b[34mvideo\u001b[0m \u001b[34mfilm-makers\u001b[0m \u001b[34m.\u001b[0m \u001b[34mThe\u001b[0m dialogue is clunky and, in several places, poorly translated . The acting is uniformly poor, especially from the villain of the piece, \u001b[34mplayed\u001b[0m \u001b[34mby\u001b[0m \u001b[34mJoong-Hoon\u001b[0m \u001b[34mPark\u001b[0m . He seems to think that by not blinking and trying to talk in a deep voice he is making his character seem threatening, when all it really does is make him seem a bit simple . The plot deserves special mention, as it is idiotic beyond all belief . The 'heroes' don't think it overly strange that their hitchhiker threatens to kill them . The 'heroine' twice manages to miss seeing the villain when he is no more than a foot away from her . The villain gets past a police checkpoint (while wearing a shirt covered in blood, and a bloody head bandage) by showing the cops a burnt corpse in the passenger seat of the car he is driving . The villain is punched, clubbed with a shovel and stuck through with a pitchfork, but never seems to be impeded by these, rather serious, injuries . And don't even get me started on that terrible 'twist' ending . Sheesh . The only plus point in this film, for me \u001b[34m,\u001b[0m \u001b[34mis\u001b[0m \u001b[34mSang\u001b[0m \u001b[34mMi\u001b[0m \u001b[34mChu\u001b[0m . Who is very pretty, but really no more than a mediocre actress . Overall, this film comes off like a poorly written, flaccidly acted and shockingly directed attempt to copy 'The Hitcher' and 'Spoorloos', but it fails at every turn due to a lack of talent in \u001b[34meveryone\u001b[0m \u001b[34minvolved\u001b[0m \u001b[34m.\u001b[0m\n",
      "****************************************************************************************************\n",
      "doc_id:6300\n",
      "I appreciate the need to hire unknowns for these \u001b[34mkind\u001b[0m \u001b[34mof\u001b[0m \u001b[34m'horror\u001b[0m \u001b[34m'\u001b[0m \u001b[34mmovies\u001b[0m, but they should at least hire some proper \u001b[34mactors\u001b[0m \u001b[34m.\u001b[0m \u001b[34mThe\u001b[0m \u001b[34msergeant\u001b[0m especially is guilty of using his \u001b[34mmonotone\u001b[0m \u001b[34mto\u001b[0m \u001b[34mbulldozer\u001b[0m every single line he has . But let's face it, the lines aren't really important . There isn't \u001b[34mreally\u001b[0m \u001b[34ma\u001b[0m \u001b[34mrecognisable\u001b[0m \u001b[34mplot\u001b[0m \u001b[34m,\u001b[0m so most of the writing involves the words f * * k, s * * t, m * * * * * f * * * * r and other assorted bad language in place of proper dialogue . The 'story' as it is, is mostly made up of seemingly random gore and death, with a couple of cringe-worthy 'surprises', which happen around 10 minutes after you see exactly what's going to happen . Not only this, but there are several glaring plot holes and continuity errors (Why are they going in there? Didn't he have a weapon? Wasn't he dead?), so it makes the whole film seem as if it has been cut down by the several hours it would take to fix them . Another film which simply relies on blood and gore instead of any real \u001b[34mcinematic\u001b[0m \u001b[34mexperience\u001b[0m \u001b[34m.\u001b[0m\n",
      "****************************************************************************************************\n",
      "doc_id:5498\n",
      "\u001b[34mStarts\u001b[0m \u001b[34mreally\u001b[0m well, nice intro and build up for the main characters but after about 5 minutes, the charm is lost . The character is in \u001b[34mthe\u001b[0m \u001b[34msame\u001b[0m \u001b[34mmould\u001b[0m \u001b[34mas\u001b[0m \u001b[34mthe\u001b[0m main protagonist from American Pie and Loser without the supporting cast or innovative storyline that made the Pie movies more of a commercial success . Let's be honest - \u001b[34mHeder\u001b[0m \u001b[34m's\u001b[0m \u001b[34macting\u001b[0m was pretty poor . \u001b[34mKeaton\u001b[0m \u001b[34m,\u001b[0m \u001b[34mDaniels\u001b[0m \u001b[34mand\u001b[0m \u001b[34mFaris\u001b[0m \u001b[34mdid\u001b[0m \u001b[34mtheir\u001b[0m best but had no substantial plot or script to get their teeth into The movie just plods on without any pace or clear logical storyline justifying its length . \u001b[34mThe\u001b[0m \u001b[34mending\u001b[0m \u001b[34mis\u001b[0m about as predictable as \u001b[34mthey\u001b[0m \u001b[34mcome\u001b[0m \u001b[34m-\u001b[0m \u001b[34mso\u001b[0m predictable I've ticked the spoilers box for this one line . My advice: avoid at all costs unless you really really have nothing else to do/listen to or watch and even then you \u001b[34m'll\u001b[0m \u001b[34mfeel\u001b[0m the producers just cheated you out of an hour and a half of \u001b[34myour\u001b[0m \u001b[34mlife\u001b[0m \u001b[34m.\u001b[0m\n",
      "****************************************************************************************************\n",
      "doc_id:3727\n",
      "This is a strange sex comedy because there ` s very little comedy but a whole lot of sex, most of which takes place in the back of a car and is so graphic it makes BASIC INSTINCT \u001b[34mlook\u001b[0m \u001b[34mlike\u001b[0m \u001b[34man\u001b[0m \u001b[34medition\u001b[0m of TELETUBBIES . I kid you not, the sex in this film is so in your \u001b[34mface\u001b[0m \u001b[34mit\u001b[0m \u001b[34mmight\u001b[0m \u001b[34mjust\u001b[0m \u001b[34mchoke\u001b[0m you, especially if you ` re watching with your grandparents . As for the rest of RITA, SUE AND BOB TOO there ` s \u001b[34mnot\u001b[0m \u001b[34mmuch\u001b[0m \u001b[34melse\u001b[0m \u001b[34mworth\u001b[0m \u001b[34mmentioning\u001b[0m \u001b[34mexcept\u001b[0m the language where every single sentence seems to contain the F word . This a rather bleak hyper-realist British film made at a time when Channel 4 was the main investor in British movies which explains its made for television low budget feel\n",
      "****************************************************************************************************\n",
      "doc_id:4435\n",
      "\u001b[34mI\u001b[0m \u001b[34mwanted\u001b[0m \u001b[34mto\u001b[0m like this \u001b[34mfilm\u001b[0m \u001b[34m,\u001b[0m \u001b[34myes\u001b[0m its a SAW, blah blah blah ripoff but I like those films . If done well this had all the ingredients of being a good, not \u001b[34mbrilliant\u001b[0m \u001b[34m,\u001b[0m \u001b[34mbut\u001b[0m \u001b[34mgood\u001b[0m film .... unfortunately those ingredients had gone off! The acting was terrible, and this was \u001b[34mfirst\u001b[0m \u001b[34mseen\u001b[0m \u001b[34mwhen\u001b[0m \u001b[34mthe\u001b[0m \u001b[34mcaptives\u001b[0m are introduced with their captor one by one (hoods taken off), the remarks and one liners are just terrible, yes I know, bad writing .... but this is more than that, it was bad writing coupled with bad acting . Two of the captives had been in a relationship with each other and did not even acknowledge this until a lot further into the \u001b[34mfilm\u001b[0m \u001b[34m.....\u001b[0m \u001b[34mSorry\u001b[0m \u001b[34m,\u001b[0m Im even wondering why I am bothering to review this movie at all . I will end with PLOT HOLES, PLOT HOLES & MORE PLOT HOLES! DISAPPOINTING!\n",
      "****************************************************************************************************\n",
      "doc_id:2733\n",
      "If I could give it a zero, I'd change my mind and give it a \u001b[34m-10\u001b[0m \u001b[34minstead\u001b[0m . Absolutely horrible movie with no movie plot, doesn't make sense of what is happening . Just PLAIN BORING . Please don't waste your money on this one . Pleaseee!!! This movie could have done so well \u001b[34mif\u001b[0m it truly depicted the real zodiac killer's story, but nopes, I didn't feel anything but disgust while watching it . Do yourself a favor and rent some classic movies instead, its better to watch a movie you've already seen like 3-4 times than watch this crap! I don't understand why people even bother to make such movies when they know its not going to do well . Zodiac \u001b[34mkiller\u001b[0m \u001b[34mshould\u001b[0m \u001b[34mbe\u001b[0m called 'Boriac killer' instead!!!\n",
      "****************************************************************************************************\n",
      "doc_id:4921\n",
      "Im the type of person who always goes 2 to horror section when \u001b[34mI\u001b[0m \u001b[34m'm\u001b[0m picking a film, so i picked \u001b[34mfive\u001b[0m \u001b[34macross\u001b[0m the eyes, i \u001b[34mwas\u001b[0m \u001b[34mdisgusted\u001b[0m with this film and thought there was no story line and no point that you could enjoy it, it made my skin crawl to think that people like to watch films that just encourage violence for the hell of it it was low budget and very rubbish! i think i could of done better myself . i think that it was the worst film i have ever seen in my life and you should not bother to watch it the actors were rubbish the camera was awful the picture was bad and the sound was not up to scratch, i think it was a little bit like a cheep rip of off the baler which project and \u001b[34mit\u001b[0m \u001b[34mhas\u001b[0m \u001b[34mnot\u001b[0m worked at \u001b[34mall\u001b[0m \u001b[34mit\u001b[0m \u001b[34mwas\u001b[0m \u001b[34mfoul\u001b[0m \u001b[34m.\u001b[0m\n",
      "****************************************************************************************************\n",
      "doc_id:4755\n",
      "This must be one of the worst movies I've ever seen, the graphics are ridiculous, and \u001b[34mthe\u001b[0m \u001b[34mscript\u001b[0m pathetic and the \u001b[34mbiggest\u001b[0m \u001b[34mquestion\u001b[0m is \u001b[34mhow\u001b[0m this rather low brow script got trough the selection process . I like all sorts of movies from deep dramas to the more male oriented kill everything you see type of movie, so I can't say I'm picky . I have been struggling to find something to compare it to, but I just can't think of anything that matches this, maybe starship troopers 2 . Witch in \u001b[34mmy\u001b[0m \u001b[34mopinion\u001b[0m \u001b[34mmakes\u001b[0m the movie gods cry and me thinking about throwing out my DVD player, but compared to this its effects are great . \u001b[34mThe\u001b[0m \u001b[34macting\u001b[0m \u001b[34msuperb\u001b[0m \u001b[34mand\u001b[0m \u001b[34mthe\u001b[0m script should be awarded . \u001b[34mYou\u001b[0m \u001b[34mknow\u001b[0m \u001b[34mwhen\u001b[0m a movie is bad in a funny way, well folks this isn't one of those this kills your soul minute \u001b[34mby\u001b[0m \u001b[34mminute\u001b[0m \u001b[34m.\u001b[0m\n",
      "****************************************************************************************************\n",
      "doc_id:4574\n",
      "\u001b[34mWhy\u001b[0m \u001b[34mdid\u001b[0m \u001b[34mI\u001b[0m waste my money on this on the last day of Sundance? I want a refund...Can I have my $16 back? \u001b[34mWhile\u001b[0m \u001b[34mI\u001b[0m \u001b[34mwas\u001b[0m watching this film I kept waiting for something to happen, nothing did happen . The only way I even knew what it was supposed to be about was by reading the plot, which was not really like the film \u001b[34m.\u001b[0m \u001b[34mwhy\u001b[0m did the director zoom in with their handy cam and then zoom out? \u001b[34mIt\u001b[0m was not very artistic . Why did the director show Lulu filing her nails for fifteen minutes? Why is it when the actors tried to speak they sounded like they were reading? Or was that the point? \u001b[34mI\u001b[0m felt like Phantom Love had no story at all, and to be honest I felt like \u001b[34mmy\u001b[0m \u001b[34mfriends\u001b[0m \u001b[34mvacation\u001b[0m \u001b[34mvideos\u001b[0m \u001b[34mhad\u001b[0m a much higher entertainment value than \u001b[34mthis\u001b[0m \u001b[34mfilm\u001b[0m \u001b[34m.\u001b[0m\n",
      "****************************************************************************************************\n",
      "doc_id:7127\n",
      "If you haven't seen ZOMBIE BLOODBATH, you haven't . A contest like 'make your own horror movie in one day' could not possibly come up with a entry than this outrage of an insult on any viewer's intelligence . Mr . Sheets forgot a story, a plot, proper dialog, the fact that people need some BASIC acting talents and the credited lighting designer obviously forgot to show up . It seems to \u001b[34mbe\u001b[0m \u001b[34mrecorded\u001b[0m \u001b[34mon\u001b[0m the crummiest \u001b[34mof\u001b[0m \u001b[34mhandycams\u001b[0m, and copied on even worse equipment . Make-up effect consist of black mascara for the zombies and yoghurt being poured over people's heads in order to simulate their skin melting . This is nothing more than a home-movie, and a really bad one as well . Only fun to watch for the friends, \u001b[34mfamilymembers\u001b[0m \u001b[34mand\u001b[0m \u001b[34mneighbours\u001b[0m \u001b[34mthat\u001b[0m were willing to show up for \u001b[34mthe\u001b[0m \u001b[34mfilming\u001b[0m \u001b[34m.\u001b[0m I cannot for the life of me understand why this mockery of a product is listed in ANY serious film magazine or website - I have home-movies of wedding parties that are way better and more interesting . A total waste of time, money and energy . The sequel ZOMBIE BLOODBATH II is just more of the same rubbish.\n",
      "****************************************************************************************************\n",
      "doc_id:6236\n",
      "\u001b[34mI\u001b[0m \u001b[34mhave\u001b[0m \u001b[34mno\u001b[0m idea what idiots gave this movie a Palm \u001b[34mD'Or\u001b[0m \u001b[34mat\u001b[0m \u001b[34mthe\u001b[0m \u001b[34m1999\u001b[0m \u001b[34mCannes\u001b[0m \u001b[34mFilm\u001b[0m \u001b[34mFestival\u001b[0m \u001b[34mbecause\u001b[0m it was atrocious! I actually watched the entire thing simply because \u001b[34mI\u001b[0m \u001b[34mcould\u001b[0mn't believe that someone would make such a worthless film . There is nothing interesting about the plot, the characters are devoid of depth and there is no attempt at giving any sort of ambiance with music or sound effects . Also, if you do decide to waste 2 hours of your life by watching this film, be sure to bring something to throw up in because the cinematography is simply someone running around with a hand-held camcorder and half the time you can't even see the main subjects . \u001b[34mThis\u001b[0m \u001b[34mstyle\u001b[0m \u001b[34mhas\u001b[0m \u001b[34mbeen\u001b[0m used much more successfully in movies such as \"Blair Witch\" because it creates suspense . In Rosetta, there is no plot and no suspense to which that style would lend anything . I should have known better when it came on at 2 o'clock in the morning that it was going to be horrible.\n",
      "****************************************************************************************************\n",
      "doc_id:5196\n",
      "This has got to be one of the worst movies I've ever seen! There were people leaving the theatre, others were falling asleep (ok, it was a late night show)... This is a no-sense movie, one of those who can make you never want to see an out of mainstream picture again . I would love to watch the making-off of \u001b[34mthis\u001b[0m \u001b[34mmovie\u001b[0m \u001b[34mas\u001b[0m \u001b[34mI\u001b[0m \u001b[34mam\u001b[0m \u001b[34mdeeply\u001b[0m \u001b[34minterested\u001b[0m \u001b[34mon\u001b[0m \u001b[34mwhat\u001b[0m \u001b[34mgoes\u001b[0m \u001b[34mon\u001b[0m \u001b[34mthe\u001b[0m \u001b[34mminds\u001b[0m of the authors of such garbage . Do they laugh when they create all this ridiculous stuff or do they actually think they're doing something interesting? I wonder...The soundtrack is awful apart from some instrumental stuff that reminds you of a previous Bjork album . Even if you're a fan of Bjork's music, stay \u001b[34mhome\u001b[0m \u001b[34m.\u001b[0m It's the \u001b[34mbest\u001b[0m \u001b[34mthing\u001b[0m \u001b[34mto\u001b[0m do . The little, tiny, pieces of nice music are no reason for you to go out and submit yourself to this torture . God! ...\n",
      "****************************************************************************************************\n",
      "doc_id:6720\n",
      "good lord! (and that coming from an atheist), this \"movie\" is bad! much has already been said by the reviewers before (the ones who rated this piece 3 and below) to which I fully agree, I just like to add a few things: among the three guys who had to eat their own digestive end products, got chopped up by an Axe, raped by a broomstick, had their balls blown away - the ex-boyfriend suffers the worst torture while having to listen to the girl's endless and pointless babble at the kitchen table (as do we, but at least we have the mercy of the mute button). had the director cut out the point- and endless graveyard and inverted scenes, our suffering would \u001b[34mhave\u001b[0m \u001b[34mbeen\u001b[0m \u001b[34mover\u001b[0m after 30 \u001b[34mminutes\u001b[0m \u001b[34m.\u001b[0m \u001b[34mthe\u001b[0m only things that made this flick at least somewhat bearable are Emily Haack's tits (one point). forget it . don't buy it . don't waste your time . and your sanity . my brain is so fried after watching this I feel the urgent need to watch (and suffer?) \"Scrapbook\" right now.\n",
      "****************************************************************************************************\n",
      "doc_id:9035\n",
      "\u001b[34mThe\u001b[0m \u001b[34mmovie\u001b[0m \u001b[34mstarts\u001b[0m with a nice song Looks like a thriller, with Arbaaz Khan walking around in a suspicious way but then suddenly we are forced to a comedy With the routine stupid idiots like GOLMAAL with Tusshar, Sharman, Kunal and Rajpal acting \u001b[34mlike\u001b[0m \u001b[34mgrown\u001b[0m \u001b[34mup\u001b[0m kids Their scenes are quite funny first and then get boring There is a bored sub plot of Tanushree's brother being killed Towards the end the film tries to get serious with the villain kidnapping our heroes but here it gets even stupid Then a lengthy bashing bashing climax straight out of HERA PHERI and wait, there is also a long chase in Payal's house The film is so boring that it makes you fall asleep Direction by Priyan is very bad music (Pritam) is routine except the first song Cinematography is bad, the film has a cheap look throughout Rajpal Yadav is good in his 1st scene where he goes to pay his rent and i was happy that the actor isn't loud and over the top like other films But No, He becomes his usual self and gets irritating most of the times Tusshar should not speak in a film, his dial delivery is terrible Sharman is the saving grace, He is the sole actor who acts very well in this film Kunal Khemmu tries hard in his first comic film as an adult, But doesn't impress much Tanushree is bad as always Arbaaz Khan gets less scope and is usual Payal is a non actress Murli Sharma is terrible\n",
      "****************************************************************************************************\n",
      "doc_id:2975\n",
      "This movie only got a 1 because you can't give a zero! \u001b[34mif\u001b[0m \u001b[34myou\u001b[0m \u001b[34mhave\u001b[0m \u001b[34ma\u001b[0m \u001b[34mweak\u001b[0m \u001b[34mtummy\u001b[0m \u001b[34mAT\u001b[0m ALL don't watch . animal rights people you don't want to watch either . it makes people vegetarians i swear i witnessed it happen! the only cool parts are the case and the fact that its a true story . its really really super creepy that this guy worked at ADT while he \u001b[34mkilled\u001b[0m \u001b[34mpeople\u001b[0m \u001b[34m!\u001b[0m \u001b[34mstill\u001b[0m \u001b[34mfeel\u001b[0m safe when you punch in that little code? i don't! He had access to every \u001b[34mcode\u001b[0m \u001b[34min\u001b[0m \u001b[34mKansas\u001b[0m \u001b[34m!\u001b[0m!!!!! I hated the movie it was not scary it was mentally scaring \u001b[34m!\u001b[0m \u001b[34mDo\u001b[0m your self a favor and don; t rent/buy this movie i think it cost about $20 to make that INCLUDES their OVER paid actors!!!!\n",
      "****************************************************************************************************\n",
      "doc_id:1750\n",
      "Hm . While an enjoyable movie to poke plot holes, point out atrocious acting, primitive (at best) special effects (all of which have caused me to view this movie three times over the past six years) \u001b[34m,\u001b[0m \u001b[34mSevered\u001b[0m \u001b[34mranks\u001b[0m \u001b[34mamong\u001b[0m the worst I've ever seen . I'm never sure who the protagonists are, all I know is \u001b[34mthat\u001b[0m \u001b[34mthe\u001b[0m \u001b[34mkiller\u001b[0m uses \u001b[34ma\u001b[0m \u001b[34mportable\u001b[0m \u001b[34mguillotine\u001b[0m \u001b[34m,\u001b[0m \u001b[34mas\u001b[0m seen in the dance floor murder scene . All in \u001b[34mall\u001b[0m \u001b[34m,\u001b[0m \u001b[34mI\u001b[0m don't really like the \u001b[34mmovie\u001b[0m \u001b[34m,\u001b[0m \u001b[34mbecause\u001b[0m \u001b[34monly\u001b[0m \u001b[34mthe\u001b[0m \u001b[34mfirst\u001b[0m \u001b[34m30\u001b[0m \u001b[34mminutes\u001b[0m are enjoyable, the rest is a mishmash of confusing dialog and imagery that fail to progress the story to a logical conclusion (which I can't remember \u001b[34manyway\u001b[0m \u001b[34m)\u001b[0m \u001b[34m.\u001b[0m\n",
      "****************************************************************************************************\n",
      "doc_id:8121\n",
      "This is probably one of the worst movies I have ever seen . Jessica Simpson not only lacks any \u001b[34macting\u001b[0m \u001b[34mskill\u001b[0m \u001b[34m,\u001b[0m but the script is incredibly shallow and lame . You actually hear serious dialogue that goes, \u001b[34m\"\u001b[0m \u001b[34mI\u001b[0m \u001b[34mlove\u001b[0m you more .\" \"No, I love YOU more .\" I stopped watching the movie (online) after the first half hour, I couldn't take it anymore . Her \"southern girl charm\" just doesn't work and is really quite annoying; her attempts at slapstick humor fall flat and she delivers lines like she is reading the script right off the page . Poor \u001b[34mLuke\u001b[0m \u001b[34mWilson\u001b[0m \u001b[34m.\u001b[0m Did he not read the script before agreeing to do this, or did \u001b[34mhe\u001b[0m \u001b[34mfall\u001b[0m \u001b[34mfor\u001b[0m Papa Joe's (\u001b[34mJessica\u001b[0m \u001b[34m's\u001b[0m \u001b[34mdad\u001b[0m and also the producer of the movie) promise of big profits? Hopefully he now knows better than to sign on to another movie like this . Luke Wilson is actually a good actor - I hate seeing the pained look on his face as he suffers through the bad dialogue . Also, I think the previous commenter giving this movie an 8 out of 10 was probably \u001b[34meither\u001b[0m \u001b[34minvolved\u001b[0m \u001b[34min\u001b[0m \u001b[34mthe\u001b[0m movie somehow or hired by Papa Joe to give the movie a better rating \u001b[34m.\u001b[0m No one in their right mind would actually find \u001b[34mthis\u001b[0m \u001b[34mmovie\u001b[0m \u001b[34mengaging\u001b[0m . Jessica \u001b[34mhas\u001b[0m \u001b[34mlots\u001b[0m \u001b[34mof\u001b[0m \u001b[34mmoney\u001b[0m, right? Maybe buy some acting lessons?\n",
      "****************************************************************************************************\n",
      "doc_id:6872\n",
      "\"Wild Tigers I have Known .\" It will only \u001b[34mbe\u001b[0m \u001b[34mshowing\u001b[0m \u001b[34min\u001b[0m \u001b[34mbig\u001b[0m \u001b[34mcities\u001b[0m \u001b[34m,\u001b[0m to \u001b[34mbe\u001b[0m \u001b[34msure\u001b[0m \u001b[34m.\u001b[0m It is one of those films SO artsy, that it makes no sense what so ever, except to the director! I HATE \u001b[34mthose\u001b[0m! And all of those oh-so-alternative/artsy people try DESPERATELY to find \"metaphors\" in what is EVIDENT horseshit \u001b[34m.\u001b[0m There was NO plot, no story, no moral, no chronology, and nothing amusing or even touching \u001b[34m.\u001b[0m To me, it was a bunch of scenes thrown together that had nothing to do with one another, and were all for \"show\" to show how \"artsy\" and \"visual\" they could get . It was an ATTEMPT at yet ANOTHER teen angst film, but missed the mark on every level humanly possible . Then the credits roll! I was waiting for it to make SENSE! I was waiting for \"the good part .\" I own about 60 independent films in my DVD collection, many of which could arguably be called \"art house\" films . This will NOT \u001b[34mbe\u001b[0m \u001b[34mamongst\u001b[0m \u001b[34mthem\u001b[0m . You will be very angry at yourself for paying to see this film, much less ever buying it \u001b[34mon\u001b[0m \u001b[34mDVD\u001b[0m \u001b[34m.\u001b[0m\n",
      "****************************************************************************************************\n",
      "doc_id:1126\n",
      "While not quite as monstrously preposterous as later works, this slow-moving, repetitive giallo offers some nice touches in \u001b[34mthe\u001b[0m \u001b[34mfirst\u001b[0m half, but grows more and more lethargic and silly as it stumbles to its lame denouement . To be sure, the actors are above average - considering this is \u001b[34man\u001b[0m \u001b[34mArgento\u001b[0m \u001b[34mmovie\u001b[0m \u001b[34m-\u001b[0m \u001b[34mand\u001b[0m some moments show \u001b[34mthe\u001b[0m \u001b[34mdirector\u001b[0m's visual skills, but whole sequences should've been cut and, basically, it's just the same exploitative trash as ever, wallowing in fake science and abnormal sexual depravity \u001b[34m.\u001b[0m 3 out of 10 genetic disorders\n",
      "****************************************************************************************************\n",
      "doc_id:4450\n",
      "Where \u001b[34mto\u001b[0m \u001b[34meven\u001b[0m start? The horrendous acting? The nonsensical plot? The bargain basement effects? The completely loathsome characters? The choppy editing? The headache-inducing Casio keyboard score??? The embarrassingly racist remarks (\"Watch it, Charlie! \", \"Back off, Jackie Chan!!\"??? The constant misogyny? \u001b[34m?\u001b[0m? I am a lifelong horror fan, and I have no problem at all with the current \"torture-thon\" trend of movies . However, this is a poorly-made piece of garbage . I think I suffered more pain watching this than the characters did dying in it \u001b[34m!\u001b[0m \u001b[34mIf\u001b[0m \u001b[34myou\u001b[0m \u001b[34mlike\u001b[0m \u001b[34mgirls\u001b[0m being forced to eat stir-fried penis, really poor soft core porn and think lines like \"I'm gonna find that b * * * * and staple her c * * * shut!!\" are clever, LIVE FEED is for you . As \u001b[34mfor\u001b[0m \u001b[34mme\u001b[0m, I feel the need to go wash my eyes out with oven cleaner to prevent from ever seeing this movie again!\n",
      "****************************************************************************************************\n",
      "doc_id:7553\n",
      "I watched this movie at 3' o clock in the morning, a time in the day where I am usually very open when it comes to \u001b[34mmovies\u001b[0m \u001b[34m.\u001b[0m \u001b[34mBut\u001b[0m still I think it wasn't good, this movie wasn't good at all . The reasons why are many . The acting isn't all that good, and time after time \u001b[34msituations\u001b[0m \u001b[34moccurring\u001b[0m \u001b[34min\u001b[0m it reminded me of a poor 90's Chevy Chase comedy . I mean, come on, like the handcuff situation, and \u001b[34mthe\u001b[0m \u001b[34mpoker\u001b[0m \u001b[34msituation\u001b[0m \u001b[34mamongst\u001b[0m \u001b[34mthe\u001b[0m \u001b[34mservants\u001b[0m \u001b[34m...\u001b[0m \u001b[34mThis\u001b[0m movie was so obviously based very much on the first one, and thats OK . But if I hadn't seen the first one before seeing this, it would have sucked even worse . Like the ending, \u001b[34mit\u001b[0m \u001b[34mcame\u001b[0m \u001b[34mvery\u001b[0m \u001b[34msuddenly\u001b[0m, and I felt like I got no closure what so ever...\u001b[34mSebastian\u001b[0m \u001b[34mchanged\u001b[0m \u001b[34mvery\u001b[0m \u001b[34msuddenly\u001b[0m \u001b[34m,\u001b[0m and this This movie seems like it was made solely to explain nr 1, and like no time or effort was used on making anything else good . The score is the same as in the first one, and it didn't feel like a movie at all...They should have handled \u001b[34mthe\u001b[0m \u001b[34msituations\u001b[0m \u001b[34mwith\u001b[0m more style and class, but they didn't, and therefore, this movie turned out bad ...\n",
      "****************************************************************************************************\n",
      "doc_id:1465\n",
      "One of the worst movies I've seen shoddy camera work, crappy filter usage, film was grainy, script was terrible, i mean come on, how predictable was the big battle at the \u001b[34mend\u001b[0m \u001b[34m.....\u001b[0m \u001b[34msome\u001b[0m \u001b[34mof\u001b[0m the fight scenes were okay i guess .... some scenes were so bad it was comical...like Sorbo getting the horse and riding at the end \u001b[34m...\u001b[0m \u001b[34mLOL\u001b[0m \u001b[34mi\u001b[0m mean really .. a horse? Oh cant forget how the bad assassins roll around in the same vehicle throughout the entire movie .. one would think that after killling key witness and federal agents, they woulda been \u001b[34mtracked\u001b[0m \u001b[34mdown\u001b[0m \u001b[34m..\u001b[0m ETC, ETC really don't bother watching it ...\n",
      "****************************************************************************************************\n",
      "doc_id:6905\n",
      "It's been a long time since I last saw a movie this bad .. The acting is very average, the story is horribly boring, and I'm at a loss for words as to the execution . It was completely unoriginal . O, and this is as much a comedy as Clint Eastwood's a pregnant \u001b[34mSchwarzenegger\u001b[0m \u001b[34m!\u001b[0m \u001b[34mOne\u001b[0m of the first scenes (the one with the television show - where the hell are you?) got it right - the cast was 80% of let's face it - forgotten actors . If they were hoping for a career relaunch, then I think it might never happen with this on their CV! The script had the potential, but neither 80% of the actors nor the director (who's an actor and clearly should stick to being an actor) pulled it off . \u001b[34mFred\u001b[0m \u001b[34mDurst\u001b[0m \u001b[34mwas\u001b[0m \u001b[34mthe\u001b[0m only one who seemed better than any of the rest . I'm sorry, but if you ever consider watching this - I highly recommend you turn to something less traumatic, because not only it's a total loss of time, but also a weak example of what bad cinema looks like.\n",
      "****************************************************************************************************\n",
      "doc_id:2808\n",
      "This \u001b[34mmovie\u001b[0m \u001b[34mshould\u001b[0m be nominated for a new genre: Complete Mess! Except for a few chuckles and one or two scenes of gore, this movie is a complete waste of time . Calling it \"\u001b[34mCampy\u001b[0m \u001b[34m\"\u001b[0m \u001b[34mdoes\u001b[0m \u001b[34mn't\u001b[0m even cut it . \"Campy\" implies fun which this movie was not . You spend the first half of the movie thinking \"Its got to get better, \u001b[34mright\u001b[0m \u001b[34m?\u001b[0m \u001b[34m\"\u001b[0m \u001b[34m.\u001b[0m \u001b[34mIn\u001b[0m \u001b[34mfairness\u001b[0m \u001b[34m,\u001b[0m it does, at the very end when its finally explained who the \"brother/sister\" team are and what they want but by then, you hardly care anymore because you've spend the entire second half of the movie wondering exactly what did Mr. Onorati & Ms. Pacula do to tick someone off THIS badly to be stuck in such a \u001b[34mhorrible\u001b[0m \u001b[34mmovie\u001b[0m \u001b[34m.\u001b[0m\n",
      "****************************************************************************************************\n",
      "doc_id:3084\n",
      "I know the people and \u001b[34mI\u001b[0m \u001b[34mdid\u001b[0m \u001b[34msome\u001b[0m \u001b[34mof\u001b[0m the animation and graphic design and the show is horrible! They are rich little kids who don't have any talent, and probably just begged Nick to accept them! Alex has played the \u001b[34mdrums\u001b[0m \u001b[34mfor\u001b[0m \u001b[34mone\u001b[0m \u001b[34myearm\u001b[0m \u001b[34m,\u001b[0m \u001b[34mI\u001b[0m \u001b[34m've\u001b[0m \u001b[34mplayed\u001b[0m \u001b[34mfor\u001b[0m 4 1/2! The movie is terrible and so is the show! This is the craziest most mixed up comedy that even isint funny I've ever seen . It is so stupid it makes me want to barf!!! It is just so crazy that \u001b[34mNickelodeon\u001b[0m \u001b[34mwould\u001b[0m \u001b[34mever\u001b[0m \u001b[34maccept\u001b[0m \u001b[34msomething\u001b[0m like this and so dumb! They are sooo stupid and weird! I hate them and their \u001b[34mshow\u001b[0m \u001b[34mand\u001b[0m \u001b[34mthink\u001b[0m \u001b[34monce\u001b[0m Nick realizes how stupid it is they will most hopefully take it off!\n",
      "****************************************************************************************************\n",
      "doc_id:2982\n",
      "This movie was just terrible, the first movie \u001b[34mwas\u001b[0mn't that great i mean \u001b[34mit\u001b[0m's ridiculously stupid if \u001b[34mthey\u001b[0m didn't have enough with the first 5 films you had to add another one, why just not make this into an \u001b[34mongoing\u001b[0m \u001b[34mseries\u001b[0m \u001b[34mlike\u001b[0m James Bond, i'll tell you exactly why because the bond films are actually very very good and these films just stink, i don't understand, was this supposed to be a \u001b[34mcross\u001b[0m \u001b[34mbetween\u001b[0m \u001b[34mto\u001b[0m genres like horror and comedy for goodness sakes my 1 year old niece wouldn't be scared of such a \u001b[34mridiculous\u001b[0m attempt at horror, a spit in the face of people who at least want to be scared at some point in a so called horror film . Please no more of \u001b[34mthese\u001b[0m \u001b[34mmovies\u001b[0m \u001b[34m.\u001b[0m\n",
      "****************************************************************************************************\n",
      "doc_id:1174\n",
      "\u001b[34mWatching\u001b[0m this movie \u001b[34mmade\u001b[0m \u001b[34mme\u001b[0m \u001b[34mthink\u001b[0m constantly; why are they making such a problem out of some broken brakes? There are a million options to slow down the car! \u001b[34mIn\u001b[0m the movie Speed the writers a least thought of a good \u001b[34mreason\u001b[0m \u001b[34mwhy\u001b[0m \u001b[34mthe\u001b[0m \u001b[34mcar\u001b[0m wasn't able to stop...There aren't many good things to say about this film; all the usual narrative cliche's make their appearance, the actors are very bad, the story is as leak as a sieve etc . \u001b[34mThat\u001b[0m \u001b[34mmakes\u001b[0m this movie a waste of time and money.\n",
      "****************************************************************************************************\n",
      "doc_id:9938\n",
      "Anyone who actually had the ability to sit through this movie and walk away feeling like it was a good film does not appreciate quality movies . This movie was an insult to watch, the direction was high school film class \u001b[34mquality\u001b[0m \u001b[34mas\u001b[0m \u001b[34mwell\u001b[0m \u001b[34mas\u001b[0m \u001b[34mthe\u001b[0m \u001b[34mcinematography\u001b[0m . The Blair Witch Project had \u001b[34mbetter\u001b[0m \u001b[34mcinematography\u001b[0m \u001b[34mand\u001b[0m I hate that move with \u001b[34ma\u001b[0m \u001b[34mpassion\u001b[0m \u001b[34m!\u001b[0m The storyline had the potential to be a very intense very good movie but it fell flat from the first 10 minutes through the rest of the movie . Someone mentioned that this film was about a child's imagination, okay thats all good and fine . But they still could have done better things with this script than what they did . I mean come on, the Indian in the store . Did the kid look at the little idol and suddenly imagine the Indian and the entire story about an Indian spirit called Wendigo? Which they mention to the store employee and she casually says there is no one but me that works here, so you think okay creepy ghost scenario, but then she just barters for the amount on the idol and we forget about the little kid seeing this guy . That was so lame it goes beyond pathetic . The ending left you wondering not only what happened to Otis in the hospital but also with the feeling of OMG!!! Why the hell did I just waste my time watching this!! This is a move that I recommend NOT to watch, there are definitely better quality films out there that won't insult \u001b[34myour\u001b[0m \u001b[34mintelligence\u001b[0m \u001b[34m!\u001b[0m Thank god I never had to pay to see this movie, I would have demanded my money back \u001b[34m!\u001b[0m \u001b[34mFor\u001b[0m \u001b[34mthose\u001b[0m that were easily entertained by this movie .... it's very sad that you lowered your standards to this level of film making to actually say that it was a \u001b[34mgood\u001b[0m \u001b[34mmovie\u001b[0m \u001b[34m.\u001b[0m\n",
      "****************************************************************************************************\n",
      "doc_id:9936\n",
      "It was Jon Pertwee who said \"It ` s very difficult to be funny but very easy to be silly \". Well if that ` s the case PASTY FACES is \"Very easy \". David Baker (As Director /Screenwriter) and his cast seem to be under the impression that comedy involves stealing scenes and style from superior Britcoms like LOCK STOCK .. and TRAINSPOTTING, using a completely underdeveloped script and jumping up and down speaking in a very fast voice very loudly . Alan McCaffrey especially suffers from this type \u001b[34mof\u001b[0m \u001b[34mOTT\u001b[0m \u001b[34mperformance\u001b[0m \u001b[34mbut\u001b[0m not enough to ruin the film because there ` s not enough of a film to ruin . PASTY FACES is terrible on all fronts especially scriptwise . I couldn ` t understand why it ended the way it did, it just seemed to stop in a very abrupt and silly manner . Oh and other \u001b[34mglaring\u001b[0m \u001b[34merrors\u001b[0m \u001b[34mare\u001b[0m \u001b[34mthat\u001b[0m you need a visa to visit the USA and a green card in order to work there - This film would have you believe you can get off a plane and start a new life in America without any authorisation - that you still get paid to donate blood in America - People who I know in America, and who donate blood tell me payment for donations stopped several years ago - and that you can buy any type of weapon from a gun shop . As far as I know gun laws in America differ from state to state but no gun shops sell anti tank guns over the counter . So we ` ve got a very erroneous view of America from a very unreal and oh so unfunny film . Maybe this is revenge for BRAVEHEART a very Hollywood view of the Scots? Perhaps, but this doesn ` t stop PASTY FACES from being a crap comedy\n",
      "****************************************************************************************************\n",
      "doc_id:7404\n",
      "this is seriously one of the worst movies i have ever seen . i love Japanese movies, and i think another film by the same director, electric dragon 80,000 v, is a masterpiece . i \u001b[34mreally\u001b[0m \u001b[34mwanted\u001b[0m \u001b[34mto\u001b[0m \u001b[34mlike\u001b[0m this movie - asano is a terrific actor and the storyline was immensely appealing . but i couldn't find anything entertaining about it . the movie takes forever for nothing to happen . and the effects the director used - like the constant percussion and the exorbitant use of slow motion - merely added to my growing annoyance at the fact that the plot was so mind-bogglingly slow and the actors were heinously overacting . a lot of the boredom was a result of extraneous additions that were completely unnecessary - like an hour spent on asano going around slicing buddha statues and proclaiming how he doesn't worship anything . this added nothing to the plot . a fellow Japanese film \u001b[34mbuff\u001b[0m \u001b[34mand\u001b[0m \u001b[34mi\u001b[0m \u001b[34mwere\u001b[0m \u001b[34mboth\u001b[0m checking the time constantly . \u001b[34mwe\u001b[0m \u001b[34mcould\u001b[0m \u001b[34mn't\u001b[0m believe this film was as terrible as it was . and the \u001b[34mfinale\u001b[0m \u001b[34mwas\u001b[0m awful . i thought the director would at least attempt to reward the viewer for managing to sit through this, but sadly i was mistaken.\n",
      "****************************************************************************************************\n",
      "doc_id:4278\n",
      "This was just horrible the plot was just OK, but the rest of the was was bad . I mean come on puppet and then they even \u001b[34mtried\u001b[0m \u001b[34mto\u001b[0m \u001b[34mmake\u001b[0m \u001b[34mthe\u001b[0m movie digital and that made it even worse! Normally I would like low-budget movie but this was just a waste \u001b[34mof\u001b[0m \u001b[34mtime\u001b[0m \u001b[34mand\u001b[0m almost made me want to return the set that it came on . I \u001b[34mhave\u001b[0m \u001b[34mabout\u001b[0m \u001b[34mten\u001b[0m low-budget movie set with like 6-8 movies on them and I would have to say this is the worse movie out of all of them . Also the wording is off and they use a fake plastic machetes that doesn't even look like a real one, they could of used one that looked even a little close to a real one so save your time and money and don't watch this horrorible movie.\n",
      "****************************************************************************************************\n",
      "doc_id:6633\n"
     ]
    },
    {
     "name": "stdout",
     "output_type": "stream",
     "text": [
      "had to see this \u001b[34mcos\u001b[0m it looked like a great scary premise- prisoners finding magic book, oo err! claustrophobic terror ensues, etc . but there didn't seem to be a story to go along with the great idea . \u001b[34mrather\u001b[0m than \u001b[34mchilling/physcological\u001b[0m \u001b[34mhorror\u001b[0m \u001b[34m,\u001b[0m it relied on effects out in the open- fire and OTT body horror-, which didn't scare at all if your over 12 . The logic at the \u001b[34mend\u001b[0m is ridiculous, with characters being killed off for nothing other than bodycount . waste of good characters- which were the best thing about this film . \u001b[34mobviously\u001b[0m low budget, which doesn't spoil it, the film really goes nowhere, and- icant believe im going to say this- it \u001b[34mneeds\u001b[0m a Hollywood remake . you simply loose interest in this version . definitely not in the same league as other french films coming out in the last few years like crimson rivers \u001b[34mwhich\u001b[0m were at least watchable/entertaining, malefique isn't watchable to the end to be honest . \u001b[34mand\u001b[0m \u001b[34mi\u001b[0m \u001b[34mbet\u001b[0m you can guess the ending before you have watched the film . really really disappointing- impossible to recommend.\n",
      "****************************************************************************************************\n",
      "doc_id:6048\n",
      "i would have given this movie a 1 out of 10 if it weren't for ms. Claudine Barretto's performance \u001b[34m.\u001b[0m \u001b[34mand\u001b[0m \u001b[34mi\u001b[0m \u001b[34mwill\u001b[0m \u001b[34mtake\u001b[0m this time to overlook that Kris Aquino's here . and...end . i really AVOID watching Pinoy horror movies because stories lack originality and i really think that (some) writers don't give enough attention to the characters (and their progression) in their stories (redundant??). it was as if they 'pushed' the movie onwards when their storytelling stank . and my goodness, creative exhaustion led them to rip-off other movies . why?? why did this movie get a good review?? i wouldn't give it that much merit . the movie was KIND OF scary, but the movie seemed more freaky as it \u001b[34mdeals\u001b[0m \u001b[34mwith\u001b[0m \u001b[34mFilipino\u001b[0m \u001b[34mfolklore\u001b[0m \u001b[34m...\u001b[0m it goes into my list of 'most likely to happen' \u001b[34mcategory\u001b[0m \u001b[34m.\u001b[0m \u001b[34mi\u001b[0m just wished they spent more time improving the story lines and fix those flash back sequences, never mind if the lighting sucked, it wouldn't matter much if the content would blow you away .. SAYANG.\n",
      "****************************************************************************************************\n",
      "doc_id:1773\n",
      "It felt like I watched this movie thousand times before.It \u001b[34mwas\u001b[0m \u001b[34mabsolutely\u001b[0m \u001b[34mpredictable.Every\u001b[0m \u001b[34mtime\u001b[0m \u001b[34mthe\u001b[0m story tried to get a bit twisted, every time I awaited something interesting to happen, I saw nothing but what I expected . Like \"The bread factory opened up another facility, because there was not enough bread\". In two words: Flat story, that has become a clich茅, bad acting, bad special effects \u001b[34m...\u001b[0m \u001b[34mOnly\u001b[0m the dumb Russian cop, Vlad, was a bit \u001b[34mfunny\u001b[0m \u001b[34mwhile\u001b[0m \u001b[34mpunishing\u001b[0m around the bad guys.The pile of muscles was \u001b[34mso\u001b[0m \u001b[34mincredibly\u001b[0m \u001b[34mSTUPID\u001b[0m \u001b[34m,\u001b[0m that it made me laugh at him for a moment . I wonder why i waste my time spitting on that shame-of-a-movie \u001b[34m...\u001b[0m \u001b[34mIt\u001b[0m won't get worse (because it is not possible): D\n",
      "****************************************************************************************************\n",
      "doc_id:4533\n",
      "this is what you would get if you allowed a 10 year old (manic American) to write a story of \u001b[34ma\u001b[0m \u001b[34mmoon\u001b[0m \u001b[34mtrip\u001b[0m . Absolute garbage with no redeeming qualities Maybe it held \u001b[34msome\u001b[0m \u001b[34mfascination\u001b[0m \u001b[34min\u001b[0m \u001b[34mthe\u001b[0m 3D dept . \u001b[34mbut\u001b[0m \u001b[34mas\u001b[0m \u001b[34ma\u001b[0m \u001b[34mnarrative\u001b[0m \u001b[34mand\u001b[0m \u001b[34mentertaining\u001b[0m \u001b[34manimation\u001b[0m \u001b[34mit\u001b[0m held nothing to make wasting an hour and a half worth while . Save your time and money and watch BOLT instead Damn . Not enough lines, yet I \u001b[34mfeel\u001b[0m \u001b[34mthat\u001b[0m \u001b[34msums\u001b[0m it up...well, I agree with an above review - this is like a cold-war propaganda story . Maybe it would have been more interesting if they had made it about the flies uncovering the hoax of the moon landing, or if the flies had died in the first minute . BTW - why were all the main character flies deformed? - not one had the full compliment \u001b[34mof\u001b[0m \u001b[34mlimbs\u001b[0m \u001b[34m!\u001b[0m\n",
      "****************************************************************************************************\n"
     ]
    }
   ],
   "source": [
    "doc_keys = list(false_rationales.keys())\n",
    "\n",
    "exceptions= []\n",
    "for doc_id in doc_keys:\n",
    "\n",
    "    try:\n",
    "        print(f'doc_id:{doc_id}')\n",
    "        ## select text\n",
    "        original = IMDb_data[doc_id]['text']\n",
    "        token_original = word_tokenize(original)\n",
    "        false_rationale_span = false_rationales[doc_id]\n",
    "\n",
    "\n",
    "        highlighted = Visualise_rationales(original,_,false_rationale_span,visualise_all=True)\n",
    "        print(highlighted)\n",
    "        print('*'*100)\n",
    "#         print(highlighted[0])\n",
    "    except Exception:\n",
    "        exceptions.append(doc_id)"
   ]
  },
  {
   "cell_type": "code",
   "execution_count": 36,
   "metadata": {},
   "outputs": [],
   "source": [
    "unmasker = pipeline('fill-mask', model='roberta-base',top_k=15,device=0)\n",
    "tokenizer = AutoTokenizer.from_pretrained('roberta-base')"
   ]
  },
  {
   "cell_type": "code",
   "execution_count": 37,
   "metadata": {},
   "outputs": [
    {
     "name": "stderr",
     "output_type": "stream",
     "text": [
      "C:\\Users\\lujinghui\\Anaconda3\\lib\\site-packages\\ipykernel_launcher.py:32: TqdmDeprecationWarning: This function will be removed in tqdm==5.0.0\n",
      "Please use `tqdm.notebook.tqdm` instead of `tqdm.tqdm_notebook`\n"
     ]
    },
    {
     "data": {
      "application/vnd.jupyter.widget-view+json": {
       "model_id": "cc31f762934f4ffd962e80d8eadc86ef",
       "version_major": 2,
       "version_minor": 0
      },
      "text/plain": [
       "  0%|          | 0/7 [00:00<?, ?it/s]"
      ]
     },
     "metadata": {},
     "output_type": "display_data"
    },
    {
     "name": "stdout",
     "output_type": "stream",
     "text": [
      "[\"If there's one thing you can count on Disney to do, it's their uncanny ability to take a story and tell it again and again and again . Just watching the commercial for Lady and the Tramp II was a horrible experience . Disney's going to ruin one of their most awesome classics ever . Never even had that spaghetti meatball scene . It's been done before! And that's what I say to this sorry direct to video (the entire concept should be banned). Everything is just a rehash of the original movie and even several of Bluth's really bad movies . The penguin and walrus duo (I've even forgotten their names) are just a really poor carbon copy of Timon and Pumbaa . Morgana is another Ursula . She even repeats practically all her old lines . The songs are pathetic, really abysmal . I've never heard songs so bad from them before until now . And the dialogue is atrocious . It's pathetic and simplistic . On the plus side, at least they took the time to make the animation somewhat decent . All of the usual characters aren't as annoying as they used to be (or maybe that's a minus for Little Mermaid fans). Back on the negative, Everything is just so sickeningly cute you just might vomit . I almost did . Do yourself and your Little Mermaid fan a favor . Don't waste your money on this . True, it's not as horrific as Return of Jafar or Pocahontas II, even she means still anyway.\", \"If there's one thing you can count on Disney to do, it's their uncanny ability to take a story and tell it again and again and again . Seriously watching the commercial for Lady and the Tramp II was a horrible experience . Disney's going to ruin one of their most awesome classics ever . They even had that spaghetti meatball scene . It's been done before! And that's what I say to this sorry direct to video (the entire concept should be banned). Everything is just a rehash of the original movie and even several of Bluth's really bad movies . The penguin and walrus duo (I've even forgotten their names) are just a really poor carbon copy of Timon and Pumbaa . Morgana is another Ursula . She even repeats practically all her old lines . The songs are pathetic, really abysmal . I've never heard songs so bad from them before until now . And the dialogue is atrocious . It's pathetic and simplistic . On the plus side, at least they took the time to make the animation somewhat decent . All of the usual characters aren't as annoying as they used to be (or maybe that's a minus for Little Mermaid fans). Back on the negative, Ariel is just so sickeningly cute you just might vomit . I almost did . Do yourself and your Little Mermaid fan a favor . Don't waste your money on this . True, it's not as horrific as Return of Jafar or Pocahontas II, though she remains not different.\", \"If there's one thing you can count on Disney to do, it's their uncanny ability to take a story and tell it again and again and again . But watching the commercial for Lady and the Tramp II was a horrible experience . Disney's going to ruin one of their most awesome classics ever . He even had that spaghetti meatball scene . It's been done before! And that's what I say to this sorry direct to video (the entire concept should be banned). Everything is just a rehash of the original movie and even several of Bluth's really bad movies . The penguin and walrus duo (I've even forgotten their names) are just a really poor carbon copy of Timon and Pumbaa . Morgana is another Ursula . She even repeats practically all her old lines . The songs are pathetic, really abysmal . I've never heard songs so bad from them before until now . And the dialogue is atrocious . It's pathetic and simplistic . On the plus side, at least they took the time to make the animation somewhat decent . All of the usual characters aren't as annoying as they used to be (or maybe that's a minus for Little Mermaid fans). Back on the negative, Disney is just so sickeningly cute you just might vomit . I almost did . Do yourself and your Little Mermaid fan a favor . Don't waste your money on this . True, it's not as horrific as Return of Jafar or Pocahontas II, otherwise still means some changed.\"]\n"
     ]
    }
   ],
   "source": [
    "## an example of generate false rationale augmented examples by RoBERTa\n",
    "key_id = doc_keys[0]\n",
    "ban_list = positive_terms + negative_terms\n",
    "# ban_list = []\n",
    "text = IMDb_data[key_id]['text']\n",
    "candidates = Generate_fales_rationales(text,unmasker,tokenizer,false_rationales[key_id],ban_list,num_candidates=7)\n",
    "\n",
    "print(candidates[:3])"
   ]
  },
  {
   "cell_type": "code",
   "execution_count": 38,
   "metadata": {
    "scrolled": true
   },
   "outputs": [
    {
     "name": "stderr",
     "output_type": "stream",
     "text": [
      "C:\\Users\\lujinghui\\Anaconda3\\lib\\site-packages\\ipykernel_launcher.py:3: TqdmDeprecationWarning: This function will be removed in tqdm==5.0.0\n",
      "Please use `tqdm.notebook.tqdm` instead of `tqdm.tqdm_notebook`\n",
      "  This is separate from the ipykernel package so we can avoid doing imports until\n"
     ]
    },
    {
     "data": {
      "application/vnd.jupyter.widget-view+json": {
       "model_id": "dd72bfc2886a4c9e88605d7d6985674b",
       "version_major": 2,
       "version_minor": 0
      },
      "text/plain": [
       "  0%|          | 0/100 [00:00<?, ?it/s]"
      ]
     },
     "metadata": {},
     "output_type": "display_data"
    },
    {
     "name": "stderr",
     "output_type": "stream",
     "text": [
      "C:\\Users\\lujinghui\\Anaconda3\\lib\\site-packages\\ipykernel_launcher.py:32: TqdmDeprecationWarning: This function will be removed in tqdm==5.0.0\n",
      "Please use `tqdm.notebook.tqdm` instead of `tqdm.tqdm_notebook`\n"
     ]
    },
    {
     "data": {
      "application/vnd.jupyter.widget-view+json": {
       "model_id": "a384945fed74430abac40f2e83d5c4c2",
       "version_major": 2,
       "version_minor": 0
      },
      "text/plain": [
       "  0%|          | 0/16 [00:00<?, ?it/s]"
      ]
     },
     "metadata": {},
     "output_type": "display_data"
    },
    {
     "data": {
      "application/vnd.jupyter.widget-view+json": {
       "model_id": "42f25277a80f4d8f8725c54df50fe985",
       "version_major": 2,
       "version_minor": 0
      },
      "text/plain": [
       "  0%|          | 0/16 [00:00<?, ?it/s]"
      ]
     },
     "metadata": {},
     "output_type": "display_data"
    },
    {
     "data": {
      "application/vnd.jupyter.widget-view+json": {
       "model_id": "510e9331901a4f71828c7be29cbe0f64",
       "version_major": 2,
       "version_minor": 0
      },
      "text/plain": [
       "  0%|          | 0/16 [00:00<?, ?it/s]"
      ]
     },
     "metadata": {},
     "output_type": "display_data"
    },
    {
     "data": {
      "application/vnd.jupyter.widget-view+json": {
       "model_id": "65739839a1c14d0c9717b20b759d4c42",
       "version_major": 2,
       "version_minor": 0
      },
      "text/plain": [
       "  0%|          | 0/16 [00:00<?, ?it/s]"
      ]
     },
     "metadata": {},
     "output_type": "display_data"
    },
    {
     "data": {
      "application/vnd.jupyter.widget-view+json": {
       "model_id": "ceaa2ac022a54852a8ba52b4e8a9445c",
       "version_major": 2,
       "version_minor": 0
      },
      "text/plain": [
       "  0%|          | 0/16 [00:00<?, ?it/s]"
      ]
     },
     "metadata": {},
     "output_type": "display_data"
    },
    {
     "data": {
      "application/vnd.jupyter.widget-view+json": {
       "model_id": "7dec493cf0124abb9c27bca3f13862b2",
       "version_major": 2,
       "version_minor": 0
      },
      "text/plain": [
       "  0%|          | 0/16 [00:00<?, ?it/s]"
      ]
     },
     "metadata": {},
     "output_type": "display_data"
    },
    {
     "data": {
      "application/vnd.jupyter.widget-view+json": {
       "model_id": "3243e5d357dd4e1e879ba0cce0c82f6d",
       "version_major": 2,
       "version_minor": 0
      },
      "text/plain": [
       "  0%|          | 0/16 [00:00<?, ?it/s]"
      ]
     },
     "metadata": {},
     "output_type": "display_data"
    },
    {
     "data": {
      "application/vnd.jupyter.widget-view+json": {
       "model_id": "d5d8f11ef7b4427597c9b6a7b00be586",
       "version_major": 2,
       "version_minor": 0
      },
      "text/plain": [
       "  0%|          | 0/16 [00:00<?, ?it/s]"
      ]
     },
     "metadata": {},
     "output_type": "display_data"
    },
    {
     "data": {
      "application/vnd.jupyter.widget-view+json": {
       "model_id": "70201eb79ed84e3298ffebd08bbd81d0",
       "version_major": 2,
       "version_minor": 0
      },
      "text/plain": [
       "  0%|          | 0/16 [00:00<?, ?it/s]"
      ]
     },
     "metadata": {},
     "output_type": "display_data"
    },
    {
     "data": {
      "application/vnd.jupyter.widget-view+json": {
       "model_id": "bec7a702ef7642109a92bde9bd3581ee",
       "version_major": 2,
       "version_minor": 0
      },
      "text/plain": [
       "  0%|          | 0/16 [00:00<?, ?it/s]"
      ]
     },
     "metadata": {},
     "output_type": "display_data"
    },
    {
     "data": {
      "application/vnd.jupyter.widget-view+json": {
       "model_id": "bf16cffb1f4a459694820bb1378b1668",
       "version_major": 2,
       "version_minor": 0
      },
      "text/plain": [
       "  0%|          | 0/16 [00:00<?, ?it/s]"
      ]
     },
     "metadata": {},
     "output_type": "display_data"
    },
    {
     "data": {
      "application/vnd.jupyter.widget-view+json": {
       "model_id": "e55085e12f514b679bc98619545f57b9",
       "version_major": 2,
       "version_minor": 0
      },
      "text/plain": [
       "  0%|          | 0/16 [00:00<?, ?it/s]"
      ]
     },
     "metadata": {},
     "output_type": "display_data"
    },
    {
     "data": {
      "application/vnd.jupyter.widget-view+json": {
       "model_id": "b6c2ae505c0447d59878b032072ebd40",
       "version_major": 2,
       "version_minor": 0
      },
      "text/plain": [
       "  0%|          | 0/16 [00:00<?, ?it/s]"
      ]
     },
     "metadata": {},
     "output_type": "display_data"
    },
    {
     "data": {
      "application/vnd.jupyter.widget-view+json": {
       "model_id": "0c0665195223492e947f64722723720a",
       "version_major": 2,
       "version_minor": 0
      },
      "text/plain": [
       "  0%|          | 0/16 [00:00<?, ?it/s]"
      ]
     },
     "metadata": {},
     "output_type": "display_data"
    },
    {
     "data": {
      "application/vnd.jupyter.widget-view+json": {
       "model_id": "6ffa84e593204bf09ae2a3dcca03ed5b",
       "version_major": 2,
       "version_minor": 0
      },
      "text/plain": [
       "  0%|          | 0/16 [00:00<?, ?it/s]"
      ]
     },
     "metadata": {},
     "output_type": "display_data"
    },
    {
     "data": {
      "application/vnd.jupyter.widget-view+json": {
       "model_id": "ac0ccd2d176b478798cc981db36ab184",
       "version_major": 2,
       "version_minor": 0
      },
      "text/plain": [
       "  0%|          | 0/16 [00:00<?, ?it/s]"
      ]
     },
     "metadata": {},
     "output_type": "display_data"
    },
    {
     "data": {
      "application/vnd.jupyter.widget-view+json": {
       "model_id": "f87ad5a0586845af9e54450dd84cadb5",
       "version_major": 2,
       "version_minor": 0
      },
      "text/plain": [
       "  0%|          | 0/16 [00:00<?, ?it/s]"
      ]
     },
     "metadata": {},
     "output_type": "display_data"
    },
    {
     "data": {
      "application/vnd.jupyter.widget-view+json": {
       "model_id": "ca3fc29c1a3443d1a5f5f92ee9f2daf6",
       "version_major": 2,
       "version_minor": 0
      },
      "text/plain": [
       "  0%|          | 0/16 [00:00<?, ?it/s]"
      ]
     },
     "metadata": {},
     "output_type": "display_data"
    },
    {
     "data": {
      "application/vnd.jupyter.widget-view+json": {
       "model_id": "2458a3f3e4904c2b9a8fc8f0fe4d2514",
       "version_major": 2,
       "version_minor": 0
      },
      "text/plain": [
       "  0%|          | 0/16 [00:00<?, ?it/s]"
      ]
     },
     "metadata": {},
     "output_type": "display_data"
    },
    {
     "data": {
      "application/vnd.jupyter.widget-view+json": {
       "model_id": "4424011dfbc44eb19e8c589ce486f8af",
       "version_major": 2,
       "version_minor": 0
      },
      "text/plain": [
       "  0%|          | 0/16 [00:00<?, ?it/s]"
      ]
     },
     "metadata": {},
     "output_type": "display_data"
    },
    {
     "data": {
      "application/vnd.jupyter.widget-view+json": {
       "model_id": "20c29d293aaf47cbae1be5d1e281e159",
       "version_major": 2,
       "version_minor": 0
      },
      "text/plain": [
       "  0%|          | 0/16 [00:00<?, ?it/s]"
      ]
     },
     "metadata": {},
     "output_type": "display_data"
    },
    {
     "data": {
      "application/vnd.jupyter.widget-view+json": {
       "model_id": "a4aa264e0a714fe4a330f715a2fc0b31",
       "version_major": 2,
       "version_minor": 0
      },
      "text/plain": [
       "  0%|          | 0/16 [00:00<?, ?it/s]"
      ]
     },
     "metadata": {},
     "output_type": "display_data"
    },
    {
     "data": {
      "application/vnd.jupyter.widget-view+json": {
       "model_id": "dc8c9fe7435945a3b150c19d81044608",
       "version_major": 2,
       "version_minor": 0
      },
      "text/plain": [
       "  0%|          | 0/16 [00:00<?, ?it/s]"
      ]
     },
     "metadata": {},
     "output_type": "display_data"
    },
    {
     "data": {
      "application/vnd.jupyter.widget-view+json": {
       "model_id": "07056fbd0f154b5ab308ab2ded8fa3b2",
       "version_major": 2,
       "version_minor": 0
      },
      "text/plain": [
       "  0%|          | 0/16 [00:00<?, ?it/s]"
      ]
     },
     "metadata": {},
     "output_type": "display_data"
    },
    {
     "data": {
      "application/vnd.jupyter.widget-view+json": {
       "model_id": "57eee4ebd93847b5a83b82b2dc6e001b",
       "version_major": 2,
       "version_minor": 0
      },
      "text/plain": [
       "  0%|          | 0/16 [00:00<?, ?it/s]"
      ]
     },
     "metadata": {},
     "output_type": "display_data"
    },
    {
     "data": {
      "application/vnd.jupyter.widget-view+json": {
       "model_id": "5f75ec6812c6459883888292a732fe33",
       "version_major": 2,
       "version_minor": 0
      },
      "text/plain": [
       "  0%|          | 0/16 [00:00<?, ?it/s]"
      ]
     },
     "metadata": {},
     "output_type": "display_data"
    },
    {
     "data": {
      "application/vnd.jupyter.widget-view+json": {
       "model_id": "22d572045dba46ffa3774490b0211701",
       "version_major": 2,
       "version_minor": 0
      },
      "text/plain": [
       "  0%|          | 0/16 [00:00<?, ?it/s]"
      ]
     },
     "metadata": {},
     "output_type": "display_data"
    },
    {
     "data": {
      "application/vnd.jupyter.widget-view+json": {
       "model_id": "921066c153c44e0486fb8c7c148da49a",
       "version_major": 2,
       "version_minor": 0
      },
      "text/plain": [
       "  0%|          | 0/16 [00:00<?, ?it/s]"
      ]
     },
     "metadata": {},
     "output_type": "display_data"
    },
    {
     "data": {
      "application/vnd.jupyter.widget-view+json": {
       "model_id": "486174231202472ab8b4bf57dc0fdee7",
       "version_major": 2,
       "version_minor": 0
      },
      "text/plain": [
       "  0%|          | 0/16 [00:00<?, ?it/s]"
      ]
     },
     "metadata": {},
     "output_type": "display_data"
    },
    {
     "data": {
      "application/vnd.jupyter.widget-view+json": {
       "model_id": "2f63017231a24638a4874088fcd1b5e7",
       "version_major": 2,
       "version_minor": 0
      },
      "text/plain": [
       "  0%|          | 0/16 [00:00<?, ?it/s]"
      ]
     },
     "metadata": {},
     "output_type": "display_data"
    },
    {
     "data": {
      "application/vnd.jupyter.widget-view+json": {
       "model_id": "1249e699c07946929a849c8f93e35ad3",
       "version_major": 2,
       "version_minor": 0
      },
      "text/plain": [
       "  0%|          | 0/16 [00:00<?, ?it/s]"
      ]
     },
     "metadata": {},
     "output_type": "display_data"
    },
    {
     "data": {
      "application/vnd.jupyter.widget-view+json": {
       "model_id": "11ac452c9b3f42838dacf8b3ded8ee15",
       "version_major": 2,
       "version_minor": 0
      },
      "text/plain": [
       "  0%|          | 0/16 [00:00<?, ?it/s]"
      ]
     },
     "metadata": {},
     "output_type": "display_data"
    },
    {
     "data": {
      "application/vnd.jupyter.widget-view+json": {
       "model_id": "d24e95f3ee2e4edd992ef72293877a52",
       "version_major": 2,
       "version_minor": 0
      },
      "text/plain": [
       "  0%|          | 0/16 [00:00<?, ?it/s]"
      ]
     },
     "metadata": {},
     "output_type": "display_data"
    },
    {
     "data": {
      "application/vnd.jupyter.widget-view+json": {
       "model_id": "0c9426a3ae024a1783d517fe67a1359b",
       "version_major": 2,
       "version_minor": 0
      },
      "text/plain": [
       "  0%|          | 0/16 [00:00<?, ?it/s]"
      ]
     },
     "metadata": {},
     "output_type": "display_data"
    },
    {
     "data": {
      "application/vnd.jupyter.widget-view+json": {
       "model_id": "b4abfff0f9bd4c2783348dbbdc37e5ab",
       "version_major": 2,
       "version_minor": 0
      },
      "text/plain": [
       "  0%|          | 0/16 [00:00<?, ?it/s]"
      ]
     },
     "metadata": {},
     "output_type": "display_data"
    },
    {
     "data": {
      "application/vnd.jupyter.widget-view+json": {
       "model_id": "f882824a114b482695f5a7ba47e5fa2a",
       "version_major": 2,
       "version_minor": 0
      },
      "text/plain": [
       "  0%|          | 0/16 [00:00<?, ?it/s]"
      ]
     },
     "metadata": {},
     "output_type": "display_data"
    },
    {
     "data": {
      "application/vnd.jupyter.widget-view+json": {
       "model_id": "f3207d3a8bc74e789fd22fee336c1d5e",
       "version_major": 2,
       "version_minor": 0
      },
      "text/plain": [
       "  0%|          | 0/16 [00:00<?, ?it/s]"
      ]
     },
     "metadata": {},
     "output_type": "display_data"
    },
    {
     "data": {
      "application/vnd.jupyter.widget-view+json": {
       "model_id": "c9f263c789a747d680fd66ff9a05ce1b",
       "version_major": 2,
       "version_minor": 0
      },
      "text/plain": [
       "  0%|          | 0/16 [00:00<?, ?it/s]"
      ]
     },
     "metadata": {},
     "output_type": "display_data"
    },
    {
     "data": {
      "application/vnd.jupyter.widget-view+json": {
       "model_id": "7cede3c7a7404be09eec5be4d37f9057",
       "version_major": 2,
       "version_minor": 0
      },
      "text/plain": [
       "  0%|          | 0/16 [00:00<?, ?it/s]"
      ]
     },
     "metadata": {},
     "output_type": "display_data"
    },
    {
     "data": {
      "application/vnd.jupyter.widget-view+json": {
       "model_id": "b42097b02e094242839a2ec7bf0bf5c0",
       "version_major": 2,
       "version_minor": 0
      },
      "text/plain": [
       "  0%|          | 0/16 [00:00<?, ?it/s]"
      ]
     },
     "metadata": {},
     "output_type": "display_data"
    },
    {
     "data": {
      "application/vnd.jupyter.widget-view+json": {
       "model_id": "851f242635c941bd9c505c1a8720075d",
       "version_major": 2,
       "version_minor": 0
      },
      "text/plain": [
       "  0%|          | 0/16 [00:00<?, ?it/s]"
      ]
     },
     "metadata": {},
     "output_type": "display_data"
    },
    {
     "data": {
      "application/vnd.jupyter.widget-view+json": {
       "model_id": "e338780398df4d6db80e0a1bdc338868",
       "version_major": 2,
       "version_minor": 0
      },
      "text/plain": [
       "  0%|          | 0/16 [00:00<?, ?it/s]"
      ]
     },
     "metadata": {},
     "output_type": "display_data"
    },
    {
     "data": {
      "application/vnd.jupyter.widget-view+json": {
       "model_id": "7ad277968b93478e99fefdbf6f116705",
       "version_major": 2,
       "version_minor": 0
      },
      "text/plain": [
       "  0%|          | 0/16 [00:00<?, ?it/s]"
      ]
     },
     "metadata": {},
     "output_type": "display_data"
    },
    {
     "data": {
      "application/vnd.jupyter.widget-view+json": {
       "model_id": "8fec6be571aa4532bbd25264903317db",
       "version_major": 2,
       "version_minor": 0
      },
      "text/plain": [
       "  0%|          | 0/16 [00:00<?, ?it/s]"
      ]
     },
     "metadata": {},
     "output_type": "display_data"
    },
    {
     "data": {
      "application/vnd.jupyter.widget-view+json": {
       "model_id": "a8f5ddd28086495084e95769197e13cf",
       "version_major": 2,
       "version_minor": 0
      },
      "text/plain": [
       "  0%|          | 0/16 [00:00<?, ?it/s]"
      ]
     },
     "metadata": {},
     "output_type": "display_data"
    },
    {
     "data": {
      "application/vnd.jupyter.widget-view+json": {
       "model_id": "a24ca12204ea4e2d9478450c0726e0df",
       "version_major": 2,
       "version_minor": 0
      },
      "text/plain": [
       "  0%|          | 0/16 [00:00<?, ?it/s]"
      ]
     },
     "metadata": {},
     "output_type": "display_data"
    },
    {
     "data": {
      "application/vnd.jupyter.widget-view+json": {
       "model_id": "220bf7ae5dd54389abd287f9d557fcbd",
       "version_major": 2,
       "version_minor": 0
      },
      "text/plain": [
       "  0%|          | 0/16 [00:00<?, ?it/s]"
      ]
     },
     "metadata": {},
     "output_type": "display_data"
    },
    {
     "data": {
      "application/vnd.jupyter.widget-view+json": {
       "model_id": "eeebbe372deb4a6c8fcb4d4d1d1dd5e8",
       "version_major": 2,
       "version_minor": 0
      },
      "text/plain": [
       "  0%|          | 0/16 [00:00<?, ?it/s]"
      ]
     },
     "metadata": {},
     "output_type": "display_data"
    },
    {
     "data": {
      "application/vnd.jupyter.widget-view+json": {
       "model_id": "2aeb25fb92d044c7848e06da80de2a47",
       "version_major": 2,
       "version_minor": 0
      },
      "text/plain": [
       "  0%|          | 0/16 [00:00<?, ?it/s]"
      ]
     },
     "metadata": {},
     "output_type": "display_data"
    },
    {
     "data": {
      "application/vnd.jupyter.widget-view+json": {
       "model_id": "1745b692c4fc4528aa3910410f2aea08",
       "version_major": 2,
       "version_minor": 0
      },
      "text/plain": [
       "  0%|          | 0/16 [00:00<?, ?it/s]"
      ]
     },
     "metadata": {},
     "output_type": "display_data"
    },
    {
     "data": {
      "application/vnd.jupyter.widget-view+json": {
       "model_id": "52297b3d1f2c422f93a77f7fac25f6b2",
       "version_major": 2,
       "version_minor": 0
      },
      "text/plain": [
       "  0%|          | 0/16 [00:00<?, ?it/s]"
      ]
     },
     "metadata": {},
     "output_type": "display_data"
    },
    {
     "data": {
      "application/vnd.jupyter.widget-view+json": {
       "model_id": "5732eea2bbc647da916e1a3b0ad55370",
       "version_major": 2,
       "version_minor": 0
      },
      "text/plain": [
       "  0%|          | 0/16 [00:00<?, ?it/s]"
      ]
     },
     "metadata": {},
     "output_type": "display_data"
    },
    {
     "data": {
      "application/vnd.jupyter.widget-view+json": {
       "model_id": "2bb1a580c79e4b24bfb6aed675973573",
       "version_major": 2,
       "version_minor": 0
      },
      "text/plain": [
       "  0%|          | 0/16 [00:00<?, ?it/s]"
      ]
     },
     "metadata": {},
     "output_type": "display_data"
    },
    {
     "data": {
      "application/vnd.jupyter.widget-view+json": {
       "model_id": "e06068a36b0849809ccfac9ce3e554d4",
       "version_major": 2,
       "version_minor": 0
      },
      "text/plain": [
       "  0%|          | 0/16 [00:00<?, ?it/s]"
      ]
     },
     "metadata": {},
     "output_type": "display_data"
    },
    {
     "data": {
      "application/vnd.jupyter.widget-view+json": {
       "model_id": "ae1dabc3709148f38d1b4b74deba5c9b",
       "version_major": 2,
       "version_minor": 0
      },
      "text/plain": [
       "  0%|          | 0/16 [00:00<?, ?it/s]"
      ]
     },
     "metadata": {},
     "output_type": "display_data"
    },
    {
     "data": {
      "application/vnd.jupyter.widget-view+json": {
       "model_id": "870f7c7eda3f421e83537d3a55f0052d",
       "version_major": 2,
       "version_minor": 0
      },
      "text/plain": [
       "  0%|          | 0/16 [00:00<?, ?it/s]"
      ]
     },
     "metadata": {},
     "output_type": "display_data"
    },
    {
     "data": {
      "application/vnd.jupyter.widget-view+json": {
       "model_id": "b4e97a73ea094a3e94f611c6abcf9a8d",
       "version_major": 2,
       "version_minor": 0
      },
      "text/plain": [
       "  0%|          | 0/16 [00:00<?, ?it/s]"
      ]
     },
     "metadata": {},
     "output_type": "display_data"
    },
    {
     "data": {
      "application/vnd.jupyter.widget-view+json": {
       "model_id": "14cc39d2cc6d4e2f8240209142108cf2",
       "version_major": 2,
       "version_minor": 0
      },
      "text/plain": [
       "  0%|          | 0/16 [00:00<?, ?it/s]"
      ]
     },
     "metadata": {},
     "output_type": "display_data"
    },
    {
     "data": {
      "application/vnd.jupyter.widget-view+json": {
       "model_id": "62af8f56557b4267a21017bbd0cb7b1d",
       "version_major": 2,
       "version_minor": 0
      },
      "text/plain": [
       "  0%|          | 0/16 [00:00<?, ?it/s]"
      ]
     },
     "metadata": {},
     "output_type": "display_data"
    },
    {
     "data": {
      "application/vnd.jupyter.widget-view+json": {
       "model_id": "d1e8e97f620c4519a662b3c64d9160d5",
       "version_major": 2,
       "version_minor": 0
      },
      "text/plain": [
       "  0%|          | 0/16 [00:00<?, ?it/s]"
      ]
     },
     "metadata": {},
     "output_type": "display_data"
    },
    {
     "data": {
      "application/vnd.jupyter.widget-view+json": {
       "model_id": "7ea94f35a1744970a480bba8a78e7217",
       "version_major": 2,
       "version_minor": 0
      },
      "text/plain": [
       "  0%|          | 0/16 [00:00<?, ?it/s]"
      ]
     },
     "metadata": {},
     "output_type": "display_data"
    },
    {
     "data": {
      "application/vnd.jupyter.widget-view+json": {
       "model_id": "1eabcab5968048edafb643c4061b7a2a",
       "version_major": 2,
       "version_minor": 0
      },
      "text/plain": [
       "  0%|          | 0/16 [00:00<?, ?it/s]"
      ]
     },
     "metadata": {},
     "output_type": "display_data"
    },
    {
     "data": {
      "application/vnd.jupyter.widget-view+json": {
       "model_id": "bc9fd0b1b8964d6e8e24daa2390441e9",
       "version_major": 2,
       "version_minor": 0
      },
      "text/plain": [
       "  0%|          | 0/16 [00:00<?, ?it/s]"
      ]
     },
     "metadata": {},
     "output_type": "display_data"
    },
    {
     "data": {
      "application/vnd.jupyter.widget-view+json": {
       "model_id": "a075a731a5da43f29a6e790d7d2e1482",
       "version_major": 2,
       "version_minor": 0
      },
      "text/plain": [
       "  0%|          | 0/16 [00:00<?, ?it/s]"
      ]
     },
     "metadata": {},
     "output_type": "display_data"
    },
    {
     "data": {
      "application/vnd.jupyter.widget-view+json": {
       "model_id": "8ef6185bd17d44cca2bee413e2d9927a",
       "version_major": 2,
       "version_minor": 0
      },
      "text/plain": [
       "  0%|          | 0/16 [00:00<?, ?it/s]"
      ]
     },
     "metadata": {},
     "output_type": "display_data"
    },
    {
     "data": {
      "application/vnd.jupyter.widget-view+json": {
       "model_id": "e9dd3b4d115b4f2687652c0c36f18a8a",
       "version_major": 2,
       "version_minor": 0
      },
      "text/plain": [
       "  0%|          | 0/16 [00:00<?, ?it/s]"
      ]
     },
     "metadata": {},
     "output_type": "display_data"
    },
    {
     "data": {
      "application/vnd.jupyter.widget-view+json": {
       "model_id": "ea6acea366ed442fa854952982049541",
       "version_major": 2,
       "version_minor": 0
      },
      "text/plain": [
       "  0%|          | 0/16 [00:00<?, ?it/s]"
      ]
     },
     "metadata": {},
     "output_type": "display_data"
    },
    {
     "data": {
      "application/vnd.jupyter.widget-view+json": {
       "model_id": "9e57e70e6df04f05b66a2b7b07041bee",
       "version_major": 2,
       "version_minor": 0
      },
      "text/plain": [
       "  0%|          | 0/16 [00:00<?, ?it/s]"
      ]
     },
     "metadata": {},
     "output_type": "display_data"
    },
    {
     "data": {
      "application/vnd.jupyter.widget-view+json": {
       "model_id": "54cc43715cbc4c9d88b36e629b727e60",
       "version_major": 2,
       "version_minor": 0
      },
      "text/plain": [
       "  0%|          | 0/16 [00:00<?, ?it/s]"
      ]
     },
     "metadata": {},
     "output_type": "display_data"
    },
    {
     "data": {
      "application/vnd.jupyter.widget-view+json": {
       "model_id": "a7d82f2bdaca4ad7b3db364eb48332fe",
       "version_major": 2,
       "version_minor": 0
      },
      "text/plain": [
       "  0%|          | 0/16 [00:00<?, ?it/s]"
      ]
     },
     "metadata": {},
     "output_type": "display_data"
    },
    {
     "data": {
      "application/vnd.jupyter.widget-view+json": {
       "model_id": "bad472de1366430d9501d05ae24d33e9",
       "version_major": 2,
       "version_minor": 0
      },
      "text/plain": [
       "  0%|          | 0/16 [00:00<?, ?it/s]"
      ]
     },
     "metadata": {},
     "output_type": "display_data"
    },
    {
     "data": {
      "application/vnd.jupyter.widget-view+json": {
       "model_id": "4863fc2e55374cafbf7db5d73a287b35",
       "version_major": 2,
       "version_minor": 0
      },
      "text/plain": [
       "  0%|          | 0/16 [00:00<?, ?it/s]"
      ]
     },
     "metadata": {},
     "output_type": "display_data"
    },
    {
     "data": {
      "application/vnd.jupyter.widget-view+json": {
       "model_id": "87bc931f1a6348b79358b35dedcbb19e",
       "version_major": 2,
       "version_minor": 0
      },
      "text/plain": [
       "  0%|          | 0/16 [00:00<?, ?it/s]"
      ]
     },
     "metadata": {},
     "output_type": "display_data"
    },
    {
     "data": {
      "application/vnd.jupyter.widget-view+json": {
       "model_id": "c0c2e7da9e6142a4b080e043217d6e6d",
       "version_major": 2,
       "version_minor": 0
      },
      "text/plain": [
       "  0%|          | 0/16 [00:00<?, ?it/s]"
      ]
     },
     "metadata": {},
     "output_type": "display_data"
    },
    {
     "data": {
      "application/vnd.jupyter.widget-view+json": {
       "model_id": "4368a3293adf425a8d52a356c3052a37",
       "version_major": 2,
       "version_minor": 0
      },
      "text/plain": [
       "  0%|          | 0/16 [00:00<?, ?it/s]"
      ]
     },
     "metadata": {},
     "output_type": "display_data"
    },
    {
     "data": {
      "application/vnd.jupyter.widget-view+json": {
       "model_id": "6196145dc2e44471b589ebe56db3be9a",
       "version_major": 2,
       "version_minor": 0
      },
      "text/plain": [
       "  0%|          | 0/16 [00:00<?, ?it/s]"
      ]
     },
     "metadata": {},
     "output_type": "display_data"
    },
    {
     "data": {
      "application/vnd.jupyter.widget-view+json": {
       "model_id": "570fa14054c34f94ae8302a9f13cd0a4",
       "version_major": 2,
       "version_minor": 0
      },
      "text/plain": [
       "  0%|          | 0/16 [00:00<?, ?it/s]"
      ]
     },
     "metadata": {},
     "output_type": "display_data"
    },
    {
     "data": {
      "application/vnd.jupyter.widget-view+json": {
       "model_id": "394fdf58c4b4463b8d9cd89666c93d2b",
       "version_major": 2,
       "version_minor": 0
      },
      "text/plain": [
       "  0%|          | 0/16 [00:00<?, ?it/s]"
      ]
     },
     "metadata": {},
     "output_type": "display_data"
    },
    {
     "data": {
      "application/vnd.jupyter.widget-view+json": {
       "model_id": "e24b5f04a786488897bd5933d96bd262",
       "version_major": 2,
       "version_minor": 0
      },
      "text/plain": [
       "  0%|          | 0/16 [00:00<?, ?it/s]"
      ]
     },
     "metadata": {},
     "output_type": "display_data"
    },
    {
     "data": {
      "application/vnd.jupyter.widget-view+json": {
       "model_id": "7ff5a251de234e3cab9a63935c8491c6",
       "version_major": 2,
       "version_minor": 0
      },
      "text/plain": [
       "  0%|          | 0/16 [00:00<?, ?it/s]"
      ]
     },
     "metadata": {},
     "output_type": "display_data"
    },
    {
     "data": {
      "application/vnd.jupyter.widget-view+json": {
       "model_id": "bf56daad96da4b288479d00a473c365c",
       "version_major": 2,
       "version_minor": 0
      },
      "text/plain": [
       "  0%|          | 0/16 [00:00<?, ?it/s]"
      ]
     },
     "metadata": {},
     "output_type": "display_data"
    },
    {
     "data": {
      "application/vnd.jupyter.widget-view+json": {
       "model_id": "410737cd8fdf4d4b9fd3229c564797fc",
       "version_major": 2,
       "version_minor": 0
      },
      "text/plain": [
       "  0%|          | 0/16 [00:00<?, ?it/s]"
      ]
     },
     "metadata": {},
     "output_type": "display_data"
    },
    {
     "data": {
      "application/vnd.jupyter.widget-view+json": {
       "model_id": "c7b98069e86e4aa6894e76691b5eec85",
       "version_major": 2,
       "version_minor": 0
      },
      "text/plain": [
       "  0%|          | 0/16 [00:00<?, ?it/s]"
      ]
     },
     "metadata": {},
     "output_type": "display_data"
    },
    {
     "data": {
      "application/vnd.jupyter.widget-view+json": {
       "model_id": "afc2413ba48542d09b9df70a842ecf7d",
       "version_major": 2,
       "version_minor": 0
      },
      "text/plain": [
       "  0%|          | 0/16 [00:00<?, ?it/s]"
      ]
     },
     "metadata": {},
     "output_type": "display_data"
    },
    {
     "data": {
      "application/vnd.jupyter.widget-view+json": {
       "model_id": "1b8194a981b3400aba1d7b2f5ddf6bd1",
       "version_major": 2,
       "version_minor": 0
      },
      "text/plain": [
       "  0%|          | 0/16 [00:00<?, ?it/s]"
      ]
     },
     "metadata": {},
     "output_type": "display_data"
    },
    {
     "data": {
      "application/vnd.jupyter.widget-view+json": {
       "model_id": "684bc8df7f204e8e936b09a9d3025ad1",
       "version_major": 2,
       "version_minor": 0
      },
      "text/plain": [
       "  0%|          | 0/16 [00:00<?, ?it/s]"
      ]
     },
     "metadata": {},
     "output_type": "display_data"
    },
    {
     "data": {
      "application/vnd.jupyter.widget-view+json": {
       "model_id": "6ce04b9f11c745b7b119e15bf996f240",
       "version_major": 2,
       "version_minor": 0
      },
      "text/plain": [
       "  0%|          | 0/16 [00:00<?, ?it/s]"
      ]
     },
     "metadata": {},
     "output_type": "display_data"
    },
    {
     "data": {
      "application/vnd.jupyter.widget-view+json": {
       "model_id": "4e19ed8f51e543b5a758ac471a006333",
       "version_major": 2,
       "version_minor": 0
      },
      "text/plain": [
       "  0%|          | 0/16 [00:00<?, ?it/s]"
      ]
     },
     "metadata": {},
     "output_type": "display_data"
    },
    {
     "data": {
      "application/vnd.jupyter.widget-view+json": {
       "model_id": "d1ad2fcbf0db4026aa7c7a68039f86a5",
       "version_major": 2,
       "version_minor": 0
      },
      "text/plain": [
       "  0%|          | 0/16 [00:00<?, ?it/s]"
      ]
     },
     "metadata": {},
     "output_type": "display_data"
    },
    {
     "data": {
      "application/vnd.jupyter.widget-view+json": {
       "model_id": "a84e8eb6a4324b86a866ad3dac44344e",
       "version_major": 2,
       "version_minor": 0
      },
      "text/plain": [
       "  0%|          | 0/16 [00:00<?, ?it/s]"
      ]
     },
     "metadata": {},
     "output_type": "display_data"
    },
    {
     "data": {
      "application/vnd.jupyter.widget-view+json": {
       "model_id": "4df4c5a2fc44482396160d2ca6961a2c",
       "version_major": 2,
       "version_minor": 0
      },
      "text/plain": [
       "  0%|          | 0/16 [00:00<?, ?it/s]"
      ]
     },
     "metadata": {},
     "output_type": "display_data"
    },
    {
     "data": {
      "application/vnd.jupyter.widget-view+json": {
       "model_id": "3dc6b37be52648bd8a0703dfdc4b5cf7",
       "version_major": 2,
       "version_minor": 0
      },
      "text/plain": [
       "  0%|          | 0/16 [00:00<?, ?it/s]"
      ]
     },
     "metadata": {},
     "output_type": "display_data"
    },
    {
     "data": {
      "application/vnd.jupyter.widget-view+json": {
       "model_id": "d712a7946af64699843eab59dc7f8eae",
       "version_major": 2,
       "version_minor": 0
      },
      "text/plain": [
       "  0%|          | 0/16 [00:00<?, ?it/s]"
      ]
     },
     "metadata": {},
     "output_type": "display_data"
    },
    {
     "data": {
      "application/vnd.jupyter.widget-view+json": {
       "model_id": "5ed3a6c57f2a442484d58f48ed3f7a0a",
       "version_major": 2,
       "version_minor": 0
      },
      "text/plain": [
       "  0%|          | 0/16 [00:00<?, ?it/s]"
      ]
     },
     "metadata": {},
     "output_type": "display_data"
    },
    {
     "data": {
      "application/vnd.jupyter.widget-view+json": {
       "model_id": "4c279423e9224ceeb472d04c20e68ae6",
       "version_major": 2,
       "version_minor": 0
      },
      "text/plain": [
       "  0%|          | 0/16 [00:00<?, ?it/s]"
      ]
     },
     "metadata": {},
     "output_type": "display_data"
    },
    {
     "data": {
      "application/vnd.jupyter.widget-view+json": {
       "model_id": "7257a886c00c4422b41f79dfb6607d3a",
       "version_major": 2,
       "version_minor": 0
      },
      "text/plain": [
       "  0%|          | 0/16 [00:00<?, ?it/s]"
      ]
     },
     "metadata": {},
     "output_type": "display_data"
    },
    {
     "data": {
      "application/vnd.jupyter.widget-view+json": {
       "model_id": "bf8a004c4f2d4811819127b73dea17f0",
       "version_major": 2,
       "version_minor": 0
      },
      "text/plain": [
       "  0%|          | 0/16 [00:00<?, ?it/s]"
      ]
     },
     "metadata": {},
     "output_type": "display_data"
    },
    {
     "data": {
      "application/vnd.jupyter.widget-view+json": {
       "model_id": "ce308bdb4c9d4869843ef684c4a24e7b",
       "version_major": 2,
       "version_minor": 0
      },
      "text/plain": [
       "  0%|          | 0/16 [00:00<?, ?it/s]"
      ]
     },
     "metadata": {},
     "output_type": "display_data"
    },
    {
     "data": {
      "application/vnd.jupyter.widget-view+json": {
       "model_id": "d4e0616016b046f9a8d31a21f79ea7e5",
       "version_major": 2,
       "version_minor": 0
      },
      "text/plain": [
       "  0%|          | 0/16 [00:00<?, ?it/s]"
      ]
     },
     "metadata": {},
     "output_type": "display_data"
    },
    {
     "data": {
      "application/vnd.jupyter.widget-view+json": {
       "model_id": "a39b9dd1f02e4298b01ad3681c149407",
       "version_major": 2,
       "version_minor": 0
      },
      "text/plain": [
       "  0%|          | 0/16 [00:00<?, ?it/s]"
      ]
     },
     "metadata": {},
     "output_type": "display_data"
    }
   ],
   "source": [
    "## generate false rationale augmented examples by RoBERTa\n",
    "augmented_data = {}\n",
    "for doc_id in tqdm_notebook(doc_keys):\n",
    "    ori_text = IMDb_data[doc_id]['text']\n",
    "    ori_label = IMDb_data[doc_id]['label']\n",
    "    \n",
    "    false_rationale_span =false_rationales[doc_id]\n",
    "    \n",
    "    candidates = Generate_fales_rationales(ori_text,unmasker,tokenizer,false_rationale_span,ban_list,num_candidates=16)\n",
    "    \n",
    "    augmented_data[doc_id] = {'candidates':candidates,'label':ori_label}"
   ]
  },
  {
   "cell_type": "code",
   "execution_count": 6,
   "metadata": {},
   "outputs": [],
   "source": [
    "output_dir =  f\"{args['save_dir']}_{args['train_random_seed']}_{args['num_per_class']}_{args['num_per_example']}/false_rationales_augmented_step1.json\""
   ]
  },
  {
   "cell_type": "code",
   "execution_count": 7,
   "metadata": {},
   "outputs": [],
   "source": [
    "# with open(output_dir, \"w\") as file_name:\n",
    "#     json.dump(augmented_data, file_name)\n",
    " \n",
    "with open(output_dir, \"r\") as file_name:\n",
    "    augmented_data = json.load(file_name)"
   ]
  },
  {
   "cell_type": "code",
   "execution_count": null,
   "metadata": {},
   "outputs": [],
   "source": []
  },
  {
   "cell_type": "code",
   "execution_count": null,
   "metadata": {},
   "outputs": [],
   "source": []
  }
 ],
 "metadata": {
  "kernelspec": {
   "display_name": "Python 3",
   "language": "python",
   "name": "python3"
  },
  "language_info": {
   "codemirror_mode": {
    "name": "ipython",
    "version": 3
   },
   "file_extension": ".py",
   "mimetype": "text/x-python",
   "name": "python",
   "nbconvert_exporter": "python",
   "pygments_lexer": "ipython3",
   "version": "3.7.4"
  }
 },
 "nbformat": 4,
 "nbformat_minor": 2
}
